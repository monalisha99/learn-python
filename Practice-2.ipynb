{
 "cells": [
  {
   "cell_type": "markdown",
   "id": "617c69cb-ed7d-4560-b22c-593089de104d",
   "metadata": {},
   "source": [
    "# Python Practice Notebook\n",
    "Hi I am Monalisha Borgohain, I am using this Lupyter Notebook to practice python concepts and make necessary notes.\n",
    "\n",
    "Topics:\n",
    "\n",
    " - Introduction to Python\n",
    " - Data Types\n",
    " - Conditional Statement(if,elif,else)\n",
    " - Loops(for and while)\n",
    " - Python List and List operations\n",
    " - Functions"
   ]
  },
  {
   "cell_type": "markdown",
   "id": "25c5d38d-b2eb-44ef-a5e0-7d02b0c1ea4d",
   "metadata": {},
   "source": [
    "### data Type and Variables\n",
    "1. write a calculator program to input two variables and output their sum, product, and quotient"
   ]
  },
  {
   "cell_type": "code",
   "execution_count": 3,
   "id": "18d020a2-2f6b-4748-a647-c1ab752bdcd2",
   "metadata": {},
   "outputs": [
    {
     "name": "stdin",
     "output_type": "stream",
     "text": [
      "enter your first number: 12\n",
      "enter your second number: 54\n"
     ]
    },
    {
     "name": "stdout",
     "output_type": "stream",
     "text": [
      "sum : 66\n",
      "Product: 648\n",
      "quotient: 0\n"
     ]
    }
   ],
   "source": [
    "# Define the function. The function can have any name. However, there are\n",
    "# a few exceptions.\n",
    "def calculate(a,b):\n",
    "    print(\"sum :\", a+b)\n",
    "    print(\"Product:\", a*b)\n",
    "    print(\"quotient:\", int(a/b))\n",
    "\n",
    "# Take input from user.    \n",
    "p = int(input(\"enter your first number:\"))\n",
    "q = int(input(\"enter your second number:\"))\n",
    "\n",
    "# calling the function\n",
    "calculate(p,q)\n",
    "\n",
    "\n"
   ]
  },
  {
   "cell_type": "markdown",
   "id": "0e8b6980-ecec-441b-8597-e15b11428bee",
   "metadata": {},
   "source": [
    "#### 2.swap two variables without using third variable\n"
   ]
  },
  {
   "cell_type": "code",
   "execution_count": 4,
   "id": "d5fd4ed1-ec5d-48a4-884c-2bcda370dd72",
   "metadata": {},
   "outputs": [
    {
     "name": "stdin",
     "output_type": "stream",
     "text": [
      "enter first number: 13\n",
      "enter second number: 24\n"
     ]
    },
    {
     "name": "stdout",
     "output_type": "stream",
     "text": [
      "A, B before swaping: 13 , 24\n",
      "A, B after swaping: 24 , 13\n"
     ]
    }
   ],
   "source": [
    "def swap(a,b):\n",
    "    print(\"A, B before swaping:\", a, \",\", b)\n",
    "    # swap the variables\n",
    "    a, b = b, a\n",
    "    print(\"A, B after swaping:\", a,\",\", b)\n",
    "\n",
    "# take user input\n",
    "p = int(input(\"enter first number:\"))\n",
    "q = int(input(\"enter second number:\"))\n",
    "\n",
    "# call the function\n",
    "swap(p, q)\n"
   ]
  },
  {
   "cell_type": "markdown",
   "id": "43fa9fed-d584-4650-a4db-7e5693a9a1b5",
   "metadata": {},
   "source": [
    "#### 3. Print datatype of entered value"
   ]
  },
  {
   "cell_type": "code",
   "execution_count": 8,
   "id": "07fce76c-0e69-47fd-9b91-f5c6dfb8dda8",
   "metadata": {},
   "outputs": [
    {
     "name": "stdin",
     "output_type": "stream",
     "text": [
      "first number: 23\n"
     ]
    },
    {
     "name": "stdout",
     "output_type": "stream",
     "text": [
      "<class 'str'>\n"
     ]
    }
   ],
   "source": [
    "value = input(\"first number:\")\n",
    "print(type(value))"
   ]
  },
  {
   "cell_type": "markdown",
   "id": "0a3a9c8b-a4fd-4a39-a50f-0b845fdf21e4",
   "metadata": {},
   "source": [
    "#### 4. print all even numbers between 1 to 30"
   ]
  },
  {
   "cell_type": "code",
   "execution_count": null,
   "id": "468b6860-9efc-4be8-a998-03d7cc765b77",
   "metadata": {},
   "outputs": [],
   "source": [
    "for i in range(1, 30):\n",
    "    if(i%2==0):\n",
    "        print(i)"
   ]
  },
  {
   "cell_type": "markdown",
   "id": "3104346b-bf0c-4240-b4a5-2bd6e73fb6e6",
   "metadata": {},
   "source": [
    "#### 5. Print all odd numbers between 1 to 30"
   ]
  },
  {
   "cell_type": "code",
   "execution_count": 10,
   "id": "8655ca53-cfdd-4ac3-9eb6-972215e0c03a",
   "metadata": {},
   "outputs": [
    {
     "name": "stdout",
     "output_type": "stream",
     "text": [
      "1\n",
      "3\n",
      "5\n",
      "7\n",
      "9\n",
      "11\n",
      "13\n",
      "15\n",
      "17\n",
      "19\n",
      "21\n",
      "23\n",
      "25\n",
      "27\n",
      "29\n"
     ]
    }
   ],
   "source": [
    "for i in range(1, 30):\n",
    "    if (i%2!=0):\n",
    "        print(i)\n"
   ]
  },
  {
   "cell_type": "markdown",
   "id": "a7e47dbd-8011-4762-911b-acb6517d043f",
   "metadata": {},
   "source": [
    "#### 6. Print Prime Numbers between 1 to 100"
   ]
  },
  {
   "cell_type": "code",
   "execution_count": 15,
   "id": "05e8b70b-874e-443c-a4f7-01029054ae2f",
   "metadata": {},
   "outputs": [
    {
     "name": "stdout",
     "output_type": "stream",
     "text": [
      "2\n",
      "3\n",
      "5\n",
      "7\n",
      "11\n",
      "13\n",
      "17\n",
      "19\n",
      "23\n",
      "29\n",
      "31\n",
      "37\n",
      "41\n",
      "43\n",
      "47\n",
      "53\n",
      "59\n",
      "61\n",
      "67\n",
      "71\n",
      "73\n",
      "79\n",
      "83\n",
      "89\n",
      "97\n"
     ]
    }
   ],
   "source": [
    "print(2)\n",
    "print(3)\n",
    "print(5)\n",
    "print(7)\n",
    "\n",
    "for i in range(1,100):\n",
    "    if i!=1:\n",
    "        if (i%2!=0):\n",
    "            if(i%3!=0):\n",
    "                if(i%5!=0):\n",
    "                    if(i%7!=0):\n",
    "                        print(i)\n"
   ]
  },
  {
   "cell_type": "markdown",
   "id": "64cef5b7-f4cd-4f6e-b234-ea4541f656ed",
   "metadata": {},
   "source": [
    "#### 7. Print prime Numbers between 40 to 100"
   ]
  },
  {
   "cell_type": "code",
   "execution_count": 16,
   "id": "6aa136d1-3c4c-43ae-9064-90a677ad4a74",
   "metadata": {},
   "outputs": [
    {
     "name": "stdout",
     "output_type": "stream",
     "text": [
      "41\n",
      "43\n",
      "47\n",
      "53\n",
      "59\n",
      "61\n",
      "67\n",
      "71\n",
      "73\n",
      "79\n",
      "83\n",
      "89\n",
      "97\n"
     ]
    }
   ],
   "source": [
    "for i in range(40,100):\n",
    "    if(i%2!=0):\n",
    "        if(i%3!=0):\n",
    "            if(i%5!=0):\n",
    "                if(i%7!=0):\n",
    "                    print(i)"
   ]
  },
  {
   "cell_type": "markdown",
   "id": "57c0b1ca-13e2-4b52-b506-460781b15fb4",
   "metadata": {},
   "source": [
    "#### 8. Print Sum of odd digits between 0 to 30"
   ]
  },
  {
   "cell_type": "code",
   "execution_count": 23,
   "id": "ec3afdac-9e98-45e8-91de-efed027af4f7",
   "metadata": {},
   "outputs": [
    {
     "name": "stdout",
     "output_type": "stream",
     "text": [
      "sum of odd numbers between 0 and 30 is: 225\n"
     ]
    }
   ],
   "source": [
    "total = 0\n",
    "for i in range(0,30):\n",
    "    if (i%2!=0):\n",
    "        total += i\n",
    "print(\"sum of odd numbers between 0 and 30 is:\", total)\n",
    "        \n"
   ]
  },
  {
   "cell_type": "markdown",
   "id": "3934202b-d8c9-4817-8a8c-6a83d47dfdbf",
   "metadata": {},
   "source": [
    "#### 9. Print multiplication of even numbers between 1 and 10\n",
    "It is interesting to see why we can not take `total = 0` initially. Obviously! Starting digit can not be zero, otherwise all successive multiplication will be 0."
   ]
  },
  {
   "cell_type": "code",
   "execution_count": 19,
   "id": "675fe68d-1ea8-429c-b8d1-3e68d7fce465",
   "metadata": {},
   "outputs": [
    {
     "name": "stdout",
     "output_type": "stream",
     "text": [
      "384\n"
     ]
    }
   ],
   "source": [
    "total = 1\n",
    "for i in range(1,10):\n",
    "    if (i%2==0):\n",
    "        total *= i\n",
    "print(total)\n",
    "        "
   ]
  },
  {
   "cell_type": "markdown",
   "id": "d9bd3b9d-71a0-4dcb-88a4-44988016aef0",
   "metadata": {},
   "source": [
    "#### 10. Print multiplication of table 2"
   ]
  },
  {
   "cell_type": "code",
   "execution_count": 13,
   "id": "c668caa4-539e-4a49-b131-1a6d9326a43f",
   "metadata": {},
   "outputs": [
    {
     "name": "stdout",
     "output_type": "stream",
     "text": [
      "2 * 1 = 2\n",
      "2 * 2 = 4\n",
      "2 * 3 = 6\n",
      "2 * 4 = 8\n",
      "2 * 5 = 10\n",
      "2 * 6 = 12\n",
      "2 * 7 = 14\n",
      "2 * 8 = 16\n",
      "2 * 9 = 18\n",
      "2 * 10 = 20\n"
     ]
    }
   ],
   "source": [
    "for i in range(1,11):\n",
    "    print(f\"2 * {i} = {2*i}\")\n",
    "\n"
   ]
  },
  {
   "cell_type": "markdown",
   "id": "8a444edc-378a-49b8-9604-64d003c315eb",
   "metadata": {},
   "source": [
    "#### 11. Print Multiplication table 3"
   ]
  },
  {
   "cell_type": "code",
   "execution_count": 14,
   "id": "22019ee5-a0dc-408e-85b1-b54e3f377d45",
   "metadata": {},
   "outputs": [
    {
     "name": "stdout",
     "output_type": "stream",
     "text": [
      "3 * 1 = 3\n",
      "3 * 2 = 6\n",
      "3 * 3 = 9\n",
      "3 * 4 = 12\n",
      "3 * 5 = 15\n",
      "3 * 6 = 18\n",
      "3 * 7 = 21\n",
      "3 * 8 = 24\n",
      "3 * 9 = 27\n",
      "3 * 10 = 30\n"
     ]
    }
   ],
   "source": [
    "for i in range(1,11):\n",
    "    print(f\"3 * {i} = {3*i}\")"
   ]
  },
  {
   "cell_type": "markdown",
   "id": "5a0c025d-d732-4a69-a02a-79550255f72d",
   "metadata": {},
   "source": [
    "#### 12. Print Multiplication table 4\n",
    "In the following multiplication table generation, we will also explore three ways to format prints.\n",
    " - Conventional `Print()`\n",
    " - `.format()` method\n",
    " - `f string` method"
   ]
  },
  {
   "cell_type": "code",
   "execution_count": 17,
   "id": "c251e83d-eb60-4914-99b9-869e13c63c2c",
   "metadata": {},
   "outputs": [
    {
     "name": "stdout",
     "output_type": "stream",
     "text": [
      "4 *  1 = 4\n",
      "4 *  2 = 8\n",
      "4 *  3 = 12\n",
      "4 *  4 = 16\n",
      "4 *  5 = 20\n",
      "4 *  6 = 24\n",
      "4 *  7 = 28\n",
      "4 *  8 = 32\n",
      "4 *  9 = 36\n",
      "4 *  10 = 40\n"
     ]
    }
   ],
   "source": [
    "# Using conventional print method\n",
    "for i in range(1,11):\n",
    "    print(\"4 * \", i, \"=\", 4*i)"
   ]
  },
  {
   "cell_type": "code",
   "execution_count": 16,
   "id": "443e8fd9-0ecb-406c-8282-1acddfdabb9d",
   "metadata": {},
   "outputs": [
    {
     "name": "stdout",
     "output_type": "stream",
     "text": [
      "4 * 1 = 4\n",
      "4 * 2 = 8\n",
      "4 * 3 = 12\n",
      "4 * 4 = 16\n",
      "4 * 5 = 20\n",
      "4 * 6 = 24\n",
      "4 * 7 = 28\n",
      "4 * 8 = 32\n",
      "4 * 9 = 36\n",
      "4 * 10 = 40\n"
     ]
    }
   ],
   "source": [
    "# Using .format() method.\n",
    "for i in range(1,11):\n",
    "    print(\"4 * {} = {}\".format(i, i*4))"
   ]
  },
  {
   "cell_type": "code",
   "execution_count": 15,
   "id": "330366ee-76bb-4cd1-b5de-7c37d933afa9",
   "metadata": {},
   "outputs": [
    {
     "name": "stdout",
     "output_type": "stream",
     "text": [
      "4 * 1 = 4\n",
      "4 * 2 = 8\n",
      "4 * 3 = 12\n",
      "4 * 4 = 16\n",
      "4 * 5 = 20\n",
      "4 * 6 = 24\n",
      "4 * 7 = 28\n",
      "4 * 8 = 32\n",
      "4 * 9 = 36\n",
      "4 * 10 = 40\n"
     ]
    }
   ],
   "source": [
    "# Using F String.\n",
    "for i in range(1,11):\n",
    "    print(f\"4 * {i} = {4*i}\")\n",
    "    "
   ]
  },
  {
   "cell_type": "markdown",
   "id": "47c4e932-d82e-409c-aa46-ba0ea3999e24",
   "metadata": {},
   "source": [
    "#### 13. Find Sum of digits of a number\n",
    "Take user input. It should be an Integer. Say, the user entered `567` then the output should be `5+6+7` which is equal to 18."
   ]
  },
  {
   "cell_type": "code",
   "execution_count": 16,
   "id": "03209452-0ff7-4efb-82ef-9bfbff0e5723",
   "metadata": {},
   "outputs": [
    {
     "name": "stdin",
     "output_type": "stream",
     "text": [
      "enter any number:  456\n"
     ]
    },
    {
     "name": "stdout",
     "output_type": "stream",
     "text": [
      "15\n"
     ]
    }
   ],
   "source": [
    "num = str(input(\"enter any number: \")) \n",
    "total = 0\n",
    "for i in num:\n",
    "    total += int(i)\n",
    "\n",
    "print(total)"
   ]
  },
  {
   "cell_type": "markdown",
   "id": "9edc6a99-6438-460a-878d-8c3fb113d787",
   "metadata": {},
   "source": [
    "### Practice for loop basics\n",
    "For loop syntax:\n",
    "\n",
    "`for i in range(a, b, c):`\n",
    "\n",
    "Here, \n",
    "- a = starting number\n",
    "- b = ending number ( Loop goes to b-1 )\n",
    "- c = skip count or step\n",
    "\n",
    "#### Use cases:\n",
    " - Iterating over an object directly. `for i in obj:`\n",
    " - Itertaing over a range. `for i in range(a, b, c)`\n",
    "   - `for i in range(a)` Start from `0`, goes up to `a-1`, `step = 1`\n",
    "   - `for i in range(a,b)` Start from `a`, goes up to `b-1`, `step = 1`\n",
    "   - `for i in range(a,b,c)` Start from `a`, goes up to `b-1`, `step = c`\n"
   ]
  },
  {
   "cell_type": "code",
   "execution_count": 25,
   "id": "cbd39680-3f23-4f85-80f9-32e156dafb0d",
   "metadata": {},
   "outputs": [
    {
     "name": "stdout",
     "output_type": "stream",
     "text": [
      "abc  |  <class 'str'>\n",
      "1  |  <class 'int'>\n",
      "45  |  <class 'int'>\n",
      "4.6  |  <class 'float'>\n",
      "pqr  |  <class 'str'>\n"
     ]
    }
   ],
   "source": [
    "# For loop iterating over an object\n",
    "a = [\"abc\", 1, 45, 4.6, \"pqr\"]\n",
    "for i in a:\n",
    "    print(i, \" | \", type(i))"
   ]
  },
  {
   "cell_type": "code",
   "execution_count": 29,
   "id": "c69da3ec-2161-4285-b22c-0e0a76bad290",
   "metadata": {},
   "outputs": [
    {
     "name": "stdout",
     "output_type": "stream",
     "text": [
      "0\n",
      "1\n",
      "2\n",
      "3\n",
      "4\n",
      "5\n",
      "6\n",
      "7\n",
      "8\n",
      "9\n"
     ]
    }
   ],
   "source": [
    "# Iterating over a range starting from 0, with step count = 1\n",
    "for i in range(10):\n",
    "    print(i)"
   ]
  },
  {
   "cell_type": "code",
   "execution_count": 32,
   "id": "3f20476c-fdcc-4ad5-a1f8-9d842d454f54",
   "metadata": {},
   "outputs": [
    {
     "name": "stdout",
     "output_type": "stream",
     "text": [
      "4\n",
      "5\n",
      "6\n",
      "7\n",
      "8\n",
      "9\n"
     ]
    }
   ],
   "source": [
    "# For loop iterating over a range, starting from specific number, with step count = 1\n",
    "for i in range(4,10):\n",
    "    print(i)"
   ]
  },
  {
   "cell_type": "code",
   "execution_count": 5,
   "id": "a30c5dfd-b337-4032-b992-b3e6d9e37439",
   "metadata": {},
   "outputs": [
    {
     "name": "stdout",
     "output_type": "stream",
     "text": [
      "1\n",
      "4\n",
      "7\n",
      "10\n",
      "13\n",
      "16\n",
      "19\n",
      "22\n",
      "25\n",
      "28\n"
     ]
    }
   ],
   "source": [
    "# For loop for a range with specific skip count. Here skip count = 3\n",
    "for i in range(1, 30, 3):\n",
    "    print(i)"
   ]
  },
  {
   "cell_type": "code",
   "execution_count": 35,
   "id": "be6a75a7-9c3e-4f01-b213-668229fce62e",
   "metadata": {},
   "outputs": [
    {
     "name": "stdin",
     "output_type": "stream",
     "text": [
      "enter a number: 456\n"
     ]
    },
    {
     "name": "stdout",
     "output_type": "stream",
     "text": [
      "Sum of digits of a number: 456\n"
     ]
    }
   ],
   "source": [
    "num = str(input(\"enter any number: \")) \n",
    "total = 0\n",
    "for i in num:\n",
    "    total += int(i)\n",
    "\n",
    "print(total)\n",
    "\n",
    "    "
   ]
  },
  {
   "cell_type": "code",
   "execution_count": 4,
   "id": "064419aa-a91f-48fc-982a-87aba24960cb",
   "metadata": {},
   "outputs": [
    {
     "name": "stdin",
     "output_type": "stream",
     "text": [
      "enter any number: 123\n"
     ]
    },
    {
     "name": "stdout",
     "output_type": "stream",
     "text": [
      "Sum of digits:  6\n"
     ]
    }
   ],
   "source": [
    "def addDigits(num):\n",
    "    total = 0\n",
    "    for i in num:\n",
    "        total += int(i)\n",
    "    print(\"Sum of digits: \", total)\n",
    "\n",
    "abc = str(input(\"enter any number:\"))\n",
    "# Call the function\n",
    "addDigits(abc)"
   ]
  },
  {
   "cell_type": "code",
   "execution_count": null,
   "id": "1439b8e0-70b5-4b86-b90f-f316bdff35cd",
   "metadata": {},
   "outputs": [],
   "source": []
  }
 ],
 "metadata": {
  "kernelspec": {
   "display_name": "Python 3 (ipykernel)",
   "language": "python",
   "name": "python3"
  },
  "language_info": {
   "codemirror_mode": {
    "name": "ipython",
    "version": 3
   },
   "file_extension": ".py",
   "mimetype": "text/x-python",
   "name": "python",
   "nbconvert_exporter": "python",
   "pygments_lexer": "ipython3",
   "version": "3.10.18"
  }
 },
 "nbformat": 4,
 "nbformat_minor": 5
}
