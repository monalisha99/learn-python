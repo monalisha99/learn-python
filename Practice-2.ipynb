{
 "cells": [
  {
   "cell_type": "markdown",
   "id": "617c69cb-ed7d-4560-b22c-593089de104d",
   "metadata": {},
   "source": [
    "# Python Practice Notebook\n",
    "Hi I am Monalisha Borgohain, I am using this Lupyter Notebook to practice python concepts and make necessary notes.\n",
    "\n",
    "Topics:\n",
    "\n",
    " - Introduction to Python\n",
    " - Data Types\n",
    " - Conditional Statement(if,elif,else)\n",
    " - Loops(for and while)\n",
    " - Python List and List operations\n",
    " - Functions"
   ]
  },
  {
   "cell_type": "markdown",
   "id": "25c5d38d-b2eb-44ef-a5e0-7d02b0c1ea4d",
   "metadata": {},
   "source": [
    "### data Type and Variables\n",
    "1. write a calculator program to input two variables and output their sum, product, and quotient"
   ]
  },
  {
   "cell_type": "code",
   "execution_count": 3,
   "id": "18d020a2-2f6b-4748-a647-c1ab752bdcd2",
   "metadata": {},
   "outputs": [
    {
     "name": "stdin",
     "output_type": "stream",
     "text": [
      "enter your first number: 12\n",
      "enter your second number: 54\n"
     ]
    },
    {
     "name": "stdout",
     "output_type": "stream",
     "text": [
      "sum : 66\n",
      "Product: 648\n",
      "quotient: 0\n"
     ]
    }
   ],
   "source": [
    "# Define the function. The function can have any name. However, there are\n",
    "# a few exceptions.\n",
    "def calculate(a,b):\n",
    "    print(\"sum :\", a+b)\n",
    "    print(\"Product:\", a*b)\n",
    "    print(\"quotient:\", int(a/b))\n",
    "\n",
    "# Take input from user.    \n",
    "p = int(input(\"enter your first number:\"))\n",
    "q = int(input(\"enter your second number:\"))\n",
    "\n",
    "# calling the function\n",
    "calculate(p,q)\n",
    "\n",
    "\n"
   ]
  },
  {
   "cell_type": "code",
   "execution_count": null,
   "id": "de021162-9650-4838-a7c5-b745fb879f2b",
   "metadata": {},
   "outputs": [],
   "source": []
  }
 ],
 "metadata": {
  "kernelspec": {
   "display_name": "Python 3 (ipykernel)",
   "language": "python",
   "name": "python3"
  },
  "language_info": {
   "codemirror_mode": {
    "name": "ipython",
    "version": 3
   },
   "file_extension": ".py",
   "mimetype": "text/x-python",
   "name": "python",
   "nbconvert_exporter": "python",
   "pygments_lexer": "ipython3",
   "version": "3.10.18"
  }
 },
 "nbformat": 4,
 "nbformat_minor": 5
}
