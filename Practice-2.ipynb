{
 "cells": [
  {
   "cell_type": "markdown",
   "id": "617c69cb-ed7d-4560-b22c-593089de104d",
   "metadata": {},
   "source": [
    "# Python Practice Notebook\n",
    "Hi I am Monalisha Borgohain, I am using this Lupyter Notebook to practice python concepts and make necessary notes.\n",
    "\n",
    "Topics:\n",
    "\n",
    " - Introduction to Python\n",
    " - Data Types\n",
    " - Conditional Statement(if,elif,else)\n",
    " - Loops(for and while)\n",
    " - Python List and List operations\n",
    " - Functions"
   ]
  },
  {
   "cell_type": "markdown",
   "id": "25c5d38d-b2eb-44ef-a5e0-7d02b0c1ea4d",
   "metadata": {},
   "source": [
    "### data Type and Variables\n",
    "1. write a calculator program to input two variables and output their sum, product, and quotient"
   ]
  },
  {
   "cell_type": "code",
   "execution_count": 3,
   "id": "18d020a2-2f6b-4748-a647-c1ab752bdcd2",
   "metadata": {},
   "outputs": [
    {
     "name": "stdin",
     "output_type": "stream",
     "text": [
      "enter your first number: 12\n",
      "enter your second number: 54\n"
     ]
    },
    {
     "name": "stdout",
     "output_type": "stream",
     "text": [
      "sum : 66\n",
      "Product: 648\n",
      "quotient: 0\n"
     ]
    }
   ],
   "source": [
    "# Define the function. The function can have any name. However, there are\n",
    "# a few exceptions.\n",
    "def calculate(a,b):\n",
    "    print(\"sum :\", a+b)\n",
    "    print(\"Product:\", a*b)\n",
    "    print(\"quotient:\", int(a/b))\n",
    "\n",
    "# Take input from user.    \n",
    "p = int(input(\"enter your first number:\"))\n",
    "q = int(input(\"enter your second number:\"))\n",
    "\n",
    "# calling the function\n",
    "calculate(p,q)\n",
    "\n",
    "\n"
   ]
  },
  {
   "cell_type": "markdown",
   "id": "0e8b6980-ecec-441b-8597-e15b11428bee",
   "metadata": {},
   "source": [
    "#### 2.swap two variables without using third variable\n"
   ]
  },
  {
   "cell_type": "code",
   "execution_count": 4,
   "id": "d5fd4ed1-ec5d-48a4-884c-2bcda370dd72",
   "metadata": {},
   "outputs": [
    {
     "name": "stdin",
     "output_type": "stream",
     "text": [
      "enter first number: 13\n",
      "enter second number: 24\n"
     ]
    },
    {
     "name": "stdout",
     "output_type": "stream",
     "text": [
      "A, B before swaping: 13 , 24\n",
      "A, B after swaping: 24 , 13\n"
     ]
    }
   ],
   "source": [
    "def swap(a,b):\n",
    "    print(\"A, B before swaping:\", a, \",\", b)\n",
    "    # swap the variables\n",
    "    a, b = b, a\n",
    "    print(\"A, B after swaping:\", a,\",\", b)\n",
    "\n",
    "# take user input\n",
    "p = int(input(\"enter first number:\"))\n",
    "q = int(input(\"enter second number:\"))\n",
    "\n",
    "# call the function\n",
    "swap(p, q)\n"
   ]
  },
  {
   "cell_type": "markdown",
   "id": "43fa9fed-d584-4650-a4db-7e5693a9a1b5",
   "metadata": {},
   "source": [
    "#### 3. Print datatype of entered value"
   ]
  },
  {
   "cell_type": "code",
   "execution_count": 8,
   "id": "07fce76c-0e69-47fd-9b91-f5c6dfb8dda8",
   "metadata": {},
   "outputs": [
    {
     "name": "stdin",
     "output_type": "stream",
     "text": [
      "first number: 23\n"
     ]
    },
    {
     "name": "stdout",
     "output_type": "stream",
     "text": [
      "<class 'str'>\n"
     ]
    }
   ],
   "source": [
    "value = input(\"first number:\")\n",
    "print(type(value))"
   ]
  },
  {
   "cell_type": "markdown",
   "id": "0a3a9c8b-a4fd-4a39-a50f-0b845fdf21e4",
   "metadata": {},
   "source": [
    "#### 4. print all even numbers between 1 to 30"
   ]
  },
  {
   "cell_type": "code",
   "execution_count": null,
   "id": "468b6860-9efc-4be8-a998-03d7cc765b77",
   "metadata": {},
   "outputs": [],
   "source": [
    "for i in range(1, 30):\n",
    "    if(i%2==0):\n",
    "        print(i)"
   ]
  },
  {
   "cell_type": "markdown",
   "id": "3104346b-bf0c-4240-b4a5-2bd6e73fb6e6",
   "metadata": {},
   "source": [
    "#### 5. Print all odd numbers between 1 to 30"
   ]
  },
  {
   "cell_type": "code",
   "execution_count": 10,
   "id": "8655ca53-cfdd-4ac3-9eb6-972215e0c03a",
   "metadata": {},
   "outputs": [
    {
     "name": "stdout",
     "output_type": "stream",
     "text": [
      "1\n",
      "3\n",
      "5\n",
      "7\n",
      "9\n",
      "11\n",
      "13\n",
      "15\n",
      "17\n",
      "19\n",
      "21\n",
      "23\n",
      "25\n",
      "27\n",
      "29\n"
     ]
    }
   ],
   "source": [
    "for i in range(1, 30):\n",
    "    if (i%2!=0):\n",
    "        print(i)\n"
   ]
  },
  {
   "cell_type": "code",
   "execution_count": null,
   "id": "2bcd44dd-bfe1-434c-8921-e1144db64dc5",
   "metadata": {},
   "outputs": [],
   "source": []
  }
 ],
 "metadata": {
  "kernelspec": {
   "display_name": "Python 3 (ipykernel)",
   "language": "python",
   "name": "python3"
  },
  "language_info": {
   "codemirror_mode": {
    "name": "ipython",
    "version": 3
   },
   "file_extension": ".py",
   "mimetype": "text/x-python",
   "name": "python",
   "nbconvert_exporter": "python",
   "pygments_lexer": "ipython3",
   "version": "3.10.18"
  }
 },
 "nbformat": 4,
 "nbformat_minor": 5
}
