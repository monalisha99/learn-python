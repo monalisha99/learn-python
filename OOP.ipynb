{
 "cells": [
  {
   "cell_type": "code",
   "execution_count": 1,
   "id": "65f7ff35-ae39-43ca-a190-f4e67089d904",
   "metadata": {},
   "outputs": [
    {
     "name": "stdout",
     "output_type": "stream",
     "text": [
      "Buddy says Woof!\n",
      "Max says Woof!\n"
     ]
    }
   ],
   "source": [
    "# Defining a class\n",
    "class Dog:\n",
    "    def __init__(self, name, breed):\n",
    "        self.name = name   # attribute\n",
    "        self.breed = breed # attribute\n",
    "\n",
    "    def bark(self):        # method\n",
    "        print(f\"{self.name} says Woof!\")\n",
    "\n",
    "# Creating objects\n",
    "dog1 = Dog(\"Buddy\", \"Golden Retriever\")\n",
    "dog2 = Dog(\"Max\", \"Beagle\")\n",
    "\n",
    "# Using methods\n",
    "dog1.bark()   # Buddy says Woof!\n",
    "dog2.bark()   # Max says Woof!\n"
   ]
  },
  {
   "cell_type": "code",
   "execution_count": null,
   "id": "c9230579-2942-44c1-a8b9-53be4e6519a3",
   "metadata": {},
   "outputs": [],
   "source": []
  }
 ],
 "metadata": {
  "kernelspec": {
   "display_name": "Python 3 (ipykernel)",
   "language": "python",
   "name": "python3"
  },
  "language_info": {
   "codemirror_mode": {
    "name": "ipython",
    "version": 3
   },
   "file_extension": ".py",
   "mimetype": "text/x-python",
   "name": "python",
   "nbconvert_exporter": "python",
   "pygments_lexer": "ipython3",
   "version": "3.10.18"
  }
 },
 "nbformat": 4,
 "nbformat_minor": 5
}
