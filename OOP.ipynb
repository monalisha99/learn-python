{
 "cells": [
  {
   "cell_type": "code",
   "execution_count": 1,
   "id": "65f7ff35-ae39-43ca-a190-f4e67089d904",
   "metadata": {},
   "outputs": [
    {
     "name": "stdout",
     "output_type": "stream",
     "text": [
      "Buddy says Woof!\n",
      "Max says Woof!\n"
     ]
    }
   ],
   "source": [
    "# Defining a class\n",
    "class Dog:\n",
    "    def __init__(self, name, breed):\n",
    "        self.name = name   # attribute\n",
    "        self.breed = breed # attribute\n",
    "\n",
    "    def bark(self):        # method\n",
    "        print(f\"{self.name} says Woof!\")\n",
    "\n",
    "# Creating objects\n",
    "dog1 = Dog(\"Buddy\", \"Golden Retriever\")\n",
    "dog2 = Dog(\"Max\", \"Beagle\")\n",
    "\n",
    "# Using methods\n",
    "dog1.bark()   # Buddy says Woof!\n",
    "dog2.bark()   # Max says Woof!\n"
   ]
  },
  {
   "cell_type": "markdown",
   "id": "b41dfc2e-69a0-4a0d-9f7c-e345f13f2a90",
   "metadata": {},
   "source": [
    "###  Key OOP concepts in Python\n",
    "1. Class – Blueprint for creating objects.\n",
    "\n",
    "2. Object – An instance of a class.\n",
    "\n",
    "3. Attributes – Variables that belong to an object.\n",
    "\n",
    "4. Methods – Functions inside a class.\n",
    "\n",
    "5. Inheritance – Create a new class from an existing one.\n",
    "\n",
    "6. Polymorphism – Same method name, different behavior.\n",
    "\n",
    "7. Encapsulation – Restrict access to internal details of an object.\n",
    "\n"
   ]
  },
  {
   "cell_type": "code",
   "execution_count": 3,
   "id": "63235b87-30df-4b39-98aa-da1e99238cd5",
   "metadata": {},
   "outputs": [
    {
     "name": "stdout",
     "output_type": "stream",
     "text": [
      "Deposited 200. New balance: 700\n",
      "Insufficient funds!\n",
      "Deposited 1000. New balance: 1000\n"
     ]
    }
   ],
   "source": [
    "# ✅ What this tests:\n",
    "\n",
    "#class and __init__() constructor\n",
    "#Object creation (acc1, acc2)\n",
    "#Attributes (account_holder, balance)\n",
    "#Methods (deposit, withdraw)\n",
    "#Conditionals inside methods\n",
    "\n",
    "\n",
    "class BankAccount:\n",
    "    def __init__(self, account_holder, balance=0):\n",
    "        self.account_holder = account_holder\n",
    "        self.balance = balance\n",
    "\n",
    "    def deposit(self, amount):\n",
    "        self.balance += amount\n",
    "        print(f\"Deposited {amount}. New balance: {self.balance}\")\n",
    "\n",
    "    def withdraw(self, amount):\n",
    "        if amount > self.balance:\n",
    "            print(\"Insufficient funds!\")\n",
    "        else:\n",
    "            self.balance -= amount\n",
    "            print(f\"Withdrew {amount}. New balance: {self.balance}\")\n",
    "\n",
    "# Create objects (bank accounts)\n",
    "acc1 = BankAccount(\"Alice\", 500)\n",
    "acc2 = BankAccount(\"Bob\")\n",
    "\n",
    "# Use methods\n",
    "acc1.deposit(200)      # Deposited 200. New balance: 700\n",
    "acc1.withdraw(1000)    # Insufficient funds!\n",
    "acc2.deposit(1000)     # Deposited 1000. New balance: 1000\n"
   ]
  },
  {
   "cell_type": "code",
   "execution_count": null,
   "id": "f04fe62a-4700-4dff-a9f5-fe72c94a3d3a",
   "metadata": {},
   "outputs": [],
   "source": []
  }
 ],
 "metadata": {
  "kernelspec": {
   "display_name": "Python 3 (ipykernel)",
   "language": "python",
   "name": "python3"
  },
  "language_info": {
   "codemirror_mode": {
    "name": "ipython",
    "version": 3
   },
   "file_extension": ".py",
   "mimetype": "text/x-python",
   "name": "python",
   "nbconvert_exporter": "python",
   "pygments_lexer": "ipython3",
   "version": "3.10.18"
  }
 },
 "nbformat": 4,
 "nbformat_minor": 5
}
