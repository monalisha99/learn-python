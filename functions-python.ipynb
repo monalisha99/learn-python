{
 "cells": [
  {
   "cell_type": "markdown",
   "id": "d71a1acd-fa89-477e-a86c-3bf1d895babe",
   "metadata": {},
   "source": [
    "# Functions in Python: A Detailed Overview\n",
    "\n",
    "A function in Python is like a tool that performs a specific task. We can use it whenever we need to do that task, instead of repeating the same code again and again. \n",
    "Here, we will explore Python functions in depth. For a beginner Python developer, it is very important to know every nook and corner of how functions work in Python.\n",
    "\n",
    "![Functions In Python](./assets/Images/python-functions-img.jpg)"
   ]
  },
  {
   "cell_type": "markdown",
   "id": "f462e3d0-fe8d-451e-944a-eca1fb3fa34e",
   "metadata": {},
   "source": [
    "## Table of Contents\n",
    "1. Definition\n",
    "2. Why we use function\n",
    "3. Types of function\n",
    "4. Conclusion\n",
    "\n",
    "\n",
    "### 1. Definition\n",
    "A function in Python is a group of lines of reusable code that performs a specific task when called. We need to creat the block of code once and can use it many times to do the same job. Let's try to understand through a simple example."
   ]
  },
  {
   "cell_type": "code",
   "execution_count": 37,
   "id": "bb3ebe82-c46e-41aa-ae46-6799a947633c",
   "metadata": {},
   "outputs": [
    {
     "name": "stdout",
     "output_type": "stream",
     "text": [
      "Hello\n"
     ]
    }
   ],
   "source": [
    "def greet():\n",
    "    print(\"Hello\")\n",
    "greet()    # call the function"
   ]
  },
  {
   "cell_type": "markdown",
   "id": "d166015d-d624-4b34-ac39-a0dfca43a516",
   "metadata": {},
   "source": [
    "Here, ```def``` stands for \"define\". We use def to start defining a function. Then we create a function called- ```greet()```. When we call the function later, it prints the output -```Hello```.\n"
   ]
  },
  {
   "cell_type": "markdown",
   "id": "f9da43a3-fa55-47a1-ac86-59a79ae6be74",
   "metadata": {},
   "source": [
    "### 2. Why We Use Function\n",
    "From the definition, we already get a basic idea that a function in Python is used for a repeatable task. Besides, functions are very helpful for many reasons in Python. The foolowing are the reasons why we use functions in Python.\n",
    "\n",
    "##### 2.1 Reusability\n",
    "We write a function once and then use it multiple times. We don't need to write the same code again and again."
   ]
  },
  {
   "cell_type": "code",
   "execution_count": 38,
   "id": "cee70785-79e8-4f40-b64b-81d89af9adaf",
   "metadata": {},
   "outputs": [
    {
     "name": "stdout",
     "output_type": "stream",
     "text": [
      "Hello\n"
     ]
    }
   ],
   "source": [
    "def greet_name():\n",
    "    print(\"Hello\")\n",
    "greet_name()"
   ]
  },
  {
   "cell_type": "markdown",
   "id": "44dcba45-0f9a-4942-9863-a69c750b37bf",
   "metadata": {},
   "source": [
    "Here, we print ```Hello```, if we want to print ```Hi good morning!``` we simply use the same function- ```greet_name()```."
   ]
  },
  {
   "cell_type": "markdown",
   "id": "f74bc034-0e31-40a1-bd5d-0c48c1c90f56",
   "metadata": {},
   "source": [
    "##### 2.2 Improves Readability\n",
    "Functions make it easier to manage code by dividing a program into smaller, meaningful sections. Each function can perform a specific task, which improves readability and reduces confusion. This also helps when updating, testing, or debugging parts of the code, as we can focus on one function at a time without affecting the whole program."
   ]
  },
  {
   "cell_type": "markdown",
   "id": "2ffc1286-f6d7-4ac0-a290-7d606cceffb8",
   "metadata": {},
   "source": [
    "##### 2.3 Avoids Repetition and reduces program length\n",
    "Functions follow the DRY principle, which means \"Don't Repeat Yourself.\" Instead of writing the same code again and again, we can put it in a function and use it whenever needed. This saves time and keeps the code clean and reduces the program length. For example,"
   ]
  },
  {
   "cell_type": "code",
   "execution_count": 39,
   "id": "6b25fd31-b4a9-44ee-b5f2-eb0cf1c53f59",
   "metadata": {},
   "outputs": [
    {
     "name": "stdout",
     "output_type": "stream",
     "text": [
      "Hello, Rahul!! How are you?\n",
      "Hello, Rani! How are you?\n",
      "Hello, Puja! How are you?\n"
     ]
    }
   ],
   "source": [
    "def greet(name):\n",
    "    print(\"Hello,\", name + \"! How are you?\")\n",
    "\n",
    "greet(\"Rahul!\")\n",
    "greet(\"Rani\")\n",
    "greet(\"Puja\")"
   ]
  },
  {
   "cell_type": "markdown",
   "id": "15606f7d-2d08-43ba-9cd5-31161e926714",
   "metadata": {},
   "source": [
    "##### 2.4 Easier to Test and Debug\n",
    "Functions make it easier to find and fix mistakes in our code. Since each function handles a small part of the program, we can test it separately to see if it works correctly. If there’s an error, we only need to check that one function instead of going through the whole program. For example,"
   ]
  },
  {
   "cell_type": "code",
   "execution_count": 40,
   "id": "0171cd5b-34be-470a-9167-465e01714a1b",
   "metadata": {},
   "outputs": [
    {
     "name": "stdout",
     "output_type": "stream",
     "text": [
      "9\n",
      "9\n"
     ]
    }
   ],
   "source": [
    "def add_numbers(a, b):\n",
    "    return a + b\n",
    "\n",
    "# We can test just this part:\n",
    "print(add_numbers(5, 4))  \n",
    "print(add_numbers(11, -2))  \n"
   ]
  },
  {
   "cell_type": "markdown",
   "id": "294e7025-f5e5-455d-a8c2-4247d63d413a",
   "metadata": {},
   "source": [
    "If the result is wrong, we know the problem is inside the ```add_numbers``` function — not in the rest of our code."
   ]
  },
  {
   "cell_type": "markdown",
   "id": "7d5edc3c-c14a-4c3f-acf8-73193095d175",
   "metadata": {},
   "source": [
    "##### 2.5 Supports Modular Programming\n",
    "Functions help us divide a big program into smaller parts, called modules. Each function can handle a specific task. This makes the whole program easier to understand, manage, and work on, especially when it gets large. For example, in a student result program, we can divide tasks like this:"
   ]
  },
  {
   "cell_type": "code",
   "execution_count": 41,
   "id": "6d7dd43e-865f-4780-b1c5-2f49a38e1861",
   "metadata": {},
   "outputs": [
    {
     "name": "stdout",
     "output_type": "stream",
     "text": [
      "Average Marks: 81.0\n"
     ]
    }
   ],
   "source": [
    "def get_marks():\n",
    "    return [85, 80, 78]\n",
    "\n",
    "def calculate_average(marks):\n",
    "    return sum(marks) / len(marks)\n",
    "\n",
    "def display_result(avg):\n",
    "    print(\"Average Marks:\", avg)\n",
    "\n",
    "# Main program\n",
    "marks = get_marks()\n",
    "average = calculate_average(marks)\n",
    "display_result(average)\n",
    "\n",
    "# get_marks() returns [85, 80, 78]\n",
    "# sum([85, 80, 78]) = 243\n",
    "# len([85, 80, 78]) = 3\n",
    "# 243 / 3 = 81"
   ]
  },
  {
   "cell_type": "markdown",
   "id": "e7183a71-b298-45a1-8a1d-7676a092950a",
   "metadata": {},
   "source": [
    "Each function has its own task, and together they form the complete program. It is easy to manage and debug."
   ]
  },
  {
   "cell_type": "markdown",
   "id": "dc9c2dc6-7e8a-4a5e-a61e-755a396a0e34",
   "metadata": {},
   "source": [
    "##### 2.6 Helps with Collaboration\n",
    "In team projects, functions help divide the work. Each person can work on a different function without affecting others. This makes teamwork more efficient and keeps the code well-organized."
   ]
  },
  {
   "cell_type": "markdown",
   "id": "6232c993-7708-4796-83ee-7104ab7c7a00",
   "metadata": {},
   "source": [
    "##### 2.7 Supports Recursion\n",
    "Functions can call themselves (recursive functions), useful for tasks like factorial, tree traversal, etc."
   ]
  },
  {
   "cell_type": "code",
   "execution_count": 42,
   "id": "d72b6417-0c24-4ffc-8d93-179e0f4f8a32",
   "metadata": {},
   "outputs": [
    {
     "name": "stdout",
     "output_type": "stream",
     "text": [
      "Factorial of 4 is: 24\n"
     ]
    }
   ],
   "source": [
    "def factorial(n):\n",
    "    if n == 1:\n",
    "        return 1\n",
    "    return n * factorial(n - 1)\n",
    "    \n",
    "# Call the function\n",
    "print(\"Factorial of 4 is:\", factorial(4))"
   ]
  },
  {
   "cell_type": "markdown",
   "id": "b7b703ab-86cb-4e47-975a-a97588df16d9",
   "metadata": {},
   "source": [
    "##### 2.8 Makes Code More Flexible\n",
    "Functions can accept parameters, making them work with different values. A parameter is a variable used inside the function definition to accept values when the function is called. It makes the function more flexible. For example,"
   ]
  },
  {
   "cell_type": "code",
   "execution_count": 43,
   "id": "6fec29f0-36d4-4235-9d25-43151d2d224b",
   "metadata": {},
   "outputs": [
    {
     "name": "stdout",
     "output_type": "stream",
     "text": [
      "Hello, Puja\n"
     ]
    }
   ],
   "source": [
    "def greet(name):             # here, 'name' is a prameter\n",
    "    print(\"Hello,\", name)\n",
    "\n",
    "# Call the function\n",
    "greet(\"Puja\")                # \"Puja\"- Argument (Actual value)  \n",
    "\n",
    "# the parameter- \"name\" accepts the actual value \"Puja\" \n"
   ]
  },
  {
   "cell_type": "markdown",
   "id": "352c9ba3-ce99-4ba9-9b03-67eef0516a4f",
   "metadata": {},
   "source": [
    "##### 2.9 Allows Return of Values\n",
    "Functions can return results to the part of the program that called them. This is helpful for doing calculations or making decisions based on the result. Instead of just printing the answer, a function can send the result back so it can be used later in the program."
   ]
  },
  {
   "cell_type": "code",
   "execution_count": 44,
   "id": "b54fcdd7-4e8b-45db-a75c-25072a03ea4b",
   "metadata": {},
   "outputs": [
    {
     "name": "stdout",
     "output_type": "stream",
     "text": [
      "The sum is: 18\n"
     ]
    }
   ],
   "source": [
    "def add(a, b):\n",
    "    return a + b\n",
    "\n",
    "result = add(7, 11)\n",
    "print(\"The sum is:\", result)"
   ]
  },
  {
   "cell_type": "markdown",
   "id": "9d81f974-c970-4011-84f0-d1fa71b8925f",
   "metadata": {},
   "source": [
    "The function ```add()``` returns the result 18, which is stored in the variable ```result``` and then printed."
   ]
  },
  {
   "cell_type": "markdown",
   "id": "7b9b94e6-72de-4515-b0e4-681c45a77639",
   "metadata": {},
   "source": [
    "##### 2.10 Foundation for Advanced Concepts\n",
    "Functions are the foundation for many advanced concepts in Python. They are used in object-oriented programming, lambda functions, higher-order functions, and decorators. Learning how functions work helps us understand these advanced topics more easily later on.\n",
    "   *In this article, we are not going to explain the advanced concepts. For them, we will discuss a different article afterward."
   ]
  },
  {
   "cell_type": "markdown",
   "id": "4cef8f01-b92e-4c85-9b6e-cf7e78daaaad",
   "metadata": {},
   "source": [
    "### 3. Types of Function\n",
    "Basically functions in Python are two types.\n",
    "\n",
    "##### 3.1 Built-in Functions\n",
    "Functions already available in python are known as built-in functions.\n",
    "\n",
    "For example:\n",
    "  - To print something– ```print()```\n",
    "  - To find the length of a string or list– ```len()```\n",
    "  - To take input from the user– ```input()```\n",
    "  - To check the data type– ```type()```\n",
    "  - To convert integer– ```int()```\n",
    "  - To convert string– ```str()```\n",
    "  - To convert float– ```float()```\n",
    "  - To returns largest number– ```max()```\n",
    "  - To return smallest number– ```min()```\n",
    "  - To add all items in a list– ```sum()```\n",
    "  - To return assorted list– ```sorted()```\n",
    "  - To generate a sequence of number– ```range()```\n",
    "  - To returns absolute value– ```abs()```"
   ]
  },
  {
   "cell_type": "markdown",
   "id": "8caf0836-cfd8-48f9-a8f4-64e0a7a3b182",
   "metadata": {},
   "source": [
    "##### 3.2 User Defined Function:\n",
    "A user-defined function is a function that we create ourselves using the ```def``` keyword to perform a specific task or set of instructions.\n",
    "For example:\n"
   ]
  },
  {
   "cell_type": "code",
   "execution_count": 45,
   "id": "d4922402-83e0-4b42-b3e5-a5576cd52ce2",
   "metadata": {},
   "outputs": [
    {
     "name": "stdout",
     "output_type": "stream",
     "text": [
      "Hi! Ram\n"
     ]
    }
   ],
   "source": [
    "def call_name(name):\n",
    "    print(\"Hi!\", name)\n",
    "    \n",
    "\n",
    "# call the function\n",
    "call_name(\"Ram\")\n"
   ]
  },
  {
   "cell_type": "markdown",
   "id": "84f2a835-aea5-423f-a1f8-a386246643ae",
   "metadata": {},
   "source": [
    "Further, we can make types of user- defined function as follows-\n",
    "\n",
    "##### 3.1.1 Function with no parameters and no return value\n",
    " This function performs a task but doesn't take input or return anything."
   ]
  },
  {
   "cell_type": "code",
   "execution_count": 46,
   "id": "41af91f8-bead-4ea8-ba68-1ec8fab44373",
   "metadata": {},
   "outputs": [
    {
     "name": "stdout",
     "output_type": "stream",
     "text": [
      "Hello! Welcome to Python.\n"
     ]
    }
   ],
   "source": [
    "def greet_people():\n",
    "    print(\"Hello! Welcome to Python.\")\n",
    "\n",
    "greet_people()"
   ]
  },
  {
   "cell_type": "markdown",
   "id": "5bffc52a-883b-44cd-9423-7f3b04a5edd0",
   "metadata": {},
   "source": [
    "##### 3.2.2 Function with parameters but no return value\n",
    "This function takes input values (arguments) but does not return a result."
   ]
  },
  {
   "cell_type": "code",
   "execution_count": 47,
   "id": "bda3a340-f4b3-4d53-b0c6-54d8265e6767",
   "metadata": {},
   "outputs": [
    {
     "name": "stdout",
     "output_type": "stream",
     "text": [
      "Hello, John\n"
     ]
    }
   ],
   "source": [
    "def greet_user(name):  # here, \"name\" is a parameter\n",
    "    print(\"Hello,\", name)\n",
    "\n",
    "greet_user(\"John\")   # here \"John\" is a argument"
   ]
  },
  {
   "cell_type": "markdown",
   "id": "e28439c7-2f75-4c95-afc3-b6df1f93328f",
   "metadata": {},
   "source": [
    "##### 3.2.3 Function with parameters and return value\n",
    "This function takes input and returns a result to the caller."
   ]
  },
  {
   "cell_type": "code",
   "execution_count": 48,
   "id": "6c414bc0-6d48-4479-b11f-73f026203459",
   "metadata": {},
   "outputs": [
    {
     "name": "stdout",
     "output_type": "stream",
     "text": [
      "The sum is: 30\n"
     ]
    }
   ],
   "source": [
    "def add__numbers(a, b):\n",
    "    return a + b\n",
    "\n",
    "result = add__numbers(25, 5)\n",
    "print(\"The sum is:\", result)"
   ]
  },
  {
   "cell_type": "markdown",
   "id": "1800a92c-1c9b-4dda-bb05-e1519887cb57",
   "metadata": {},
   "source": [
    "##### 3.2.4 Function with no parameters but returns a value\n",
    "This function doesn't take input but sends back a result."
   ]
  },
  {
   "cell_type": "code",
   "execution_count": 49,
   "id": "3c2f7008-9d1d-4adf-8cef-56d46a845957",
   "metadata": {},
   "outputs": [
    {
     "name": "stdout",
     "output_type": "stream",
     "text": [
      "Hello! Welcome to our home.\n"
     ]
    }
   ],
   "source": [
    "def get_welcome_message():\n",
    "    return \"Hello! Welcome to our home.\"\n",
    "\n",
    "message = get_welcome_message()\n",
    "print(message)"
   ]
  },
  {
   "cell_type": "markdown",
   "id": "75e8c470-e183-4cbb-9fbc-44191b102c52",
   "metadata": {},
   "source": [
    "##### 3.2.5 Recursive Function\n",
    "A recursive function is a function that calls itself to solve a problem in smaller steps. It must have a base case to stop the recursion, or it will go on forever."
   ]
  },
  {
   "cell_type": "code",
   "execution_count": 50,
   "id": "123f52c6-4ff9-47b3-861e-426a275dfa2a",
   "metadata": {},
   "outputs": [
    {
     "name": "stdout",
     "output_type": "stream",
     "text": [
      "40320\n"
     ]
    }
   ],
   "source": [
    "def fac_torial(n):\n",
    "    if n == 1:          # base case\n",
    "        return 1\n",
    "    return n * fac_torial(n - 1)  # recursive call\n",
    "\n",
    "print(fac_torial(8))     \n",
    "\n",
    "# Step 1: Function starts with n = 8\n",
    "# print(8)          # prints 8\n",
    "# print_numbers(7)  # calls itself with n = 7\n",
    "\n",
    "# Step 2: Now n = 7\n",
    "# print(7)\n",
    "# print_numbers(6)\n",
    "\n",
    "# Step 3: n = 6\n",
    "# print(6)\n",
    "# print_numbers(5)\n",
    "\n",
    "# ... and it keeps going like that ...\n",
    "\n",
    "# Eventually: n = 1\n",
    "# print(1)\n",
    "# print_numbers(0)"
   ]
  },
  {
   "cell_type": "markdown",
   "id": "91e49e1d-753f-4221-80bd-15fe9eba1175",
   "metadata": {},
   "source": [
    "##### 3.2.6 Lambda Function (Anonymous Function)\n",
    "A lambda function is a short, one-line function that doesn't use ```def```or a name. For example the addition of number 11 and 8"
   ]
  },
  {
   "cell_type": "code",
   "execution_count": 51,
   "id": "25224886-eb2d-4580-9a94-ef7e81162e41",
   "metadata": {},
   "outputs": [
    {
     "name": "stdout",
     "output_type": "stream",
     "text": [
      "19\n"
     ]
    }
   ],
   "source": [
    "add = lambda a, b: a + b\n",
    "print(add(11, 8))   "
   ]
  },
  {
   "cell_type": "markdown",
   "id": "25d250c8-7725-454e-ac4b-6da7b460c462",
   "metadata": {},
   "source": [
    "##### 3.2.7 Higher-Order Function\n",
    "A function that takes another function as argument or returns a function."
   ]
  },
  {
   "cell_type": "code",
   "execution_count": 52,
   "id": "4c1f1e74-6e65-4df9-83c6-c68102ca2d10",
   "metadata": {},
   "outputs": [
    {
     "name": "stdout",
     "output_type": "stream",
     "text": [
      "Hello, Peter!\n"
     ]
    }
   ],
   "source": [
    "def say(name):\n",
    "    return f\"Hello, {name}!\"\n",
    "\n",
    "def higher_order(func, value):\n",
    "    return func(value)\n",
    "\n",
    "print(higher_order(say, \"Peter\"))  "
   ]
  },
  {
   "cell_type": "markdown",
   "id": "cd73b403-95fd-46c3-b5ec-6c9601afcfc2",
   "metadata": {},
   "source": [
    "### 4. Conclusion\n",
    "Learning how to use functions effectively is essential for writing clean and powerful Python code. If you understand how functions work, mastering them will open the door to more advanced topics like object-oriented programming, modules, and frameworks. This will help you become a confident and skilled Python developer."
   ]
  }
 ],
 "metadata": {
  "kernelspec": {
   "display_name": "Python 3 (ipykernel)",
   "language": "python",
   "name": "python3"
  },
  "language_info": {
   "codemirror_mode": {
    "name": "ipython",
    "version": 3
   },
   "file_extension": ".py",
   "mimetype": "text/x-python",
   "name": "python",
   "nbconvert_exporter": "python",
   "pygments_lexer": "ipython3",
   "version": "3.13.5"
  }
 },
 "nbformat": 4,
 "nbformat_minor": 5
}
