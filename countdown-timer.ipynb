{
 "cells": [
  {
   "cell_type": "markdown",
   "id": "540f7ed2-cf9e-4fc9-819f-5d589661fb55",
   "metadata": {},
   "source": [
    "Have you ever wanted to build a simple yet useful application that helps manage time more efficiently? A countdown timer is an excellent project for both beginners and intermediate programmers. It not only reinforces your understanding of GUI programming, time manipulation, and event handling, but also provides valuable hands-on experience in building real-world applications.\n",
    "\n",
    "In this article, we’ll walk through the steps to create a simple and functional countdown timer using Python and its Tkinter library.\n"
   ]
  },
  {
   "cell_type": "markdown",
   "id": "0f16c1c5-e58e-4351-8a57-fbb54bfb7769",
   "metadata": {},
   "source": [
    "## Table of Contents\n",
    "1. Import Required Libraries\n",
    "2. Create the Entry- Widget Function\n",
    "3. Create the Label- Widget Function \n",
    "4. Design the User Interface(UI)\n",
    "5. Set Up Labels and Frame Widgets\n",
    "6. Set Up Entry Widget and Button\n",
    "7. Run The Application Loop\n",
    "\n",
    "### 1. Import Required Libraries\n",
    "To begin building a countdown timer with a graphical interface we first import the Tkinter library.Import font from the tkinter. Tkinter is Python’s standard GUI (Graphical User Interface) toolkit and comes pre-installed with most Python distributions. Therefore, we don't have to install separetely."
   ]
  },
  {
   "cell_type": "markdown",
   "id": "e952973f-aac7-4c9b-abae-5d37776b79d4",
   "metadata": {},
   "source": [
    "```\n",
    "import tkinter as tk\n",
    "from tkinter import font\n"
   ]
  },
  {
   "cell_type": "markdown",
   "id": "33b2a6e2-45f9-4df2-9857-556991a78863",
   "metadata": {},
   "source": [
    "### 2. Create the Entry Widget Function\n",
    "We first create a function ```startTimer()``` to initiate the countdown in our application. It begins by retrieving the input from the entry widget and storing it in the ```timeStr``` variable. The entry widget (which we will define later) accepts time in the HH:MM:SS format.\n",
    "\n",
    "If ```timeStr``` is \"00:00:00\", a popup messagebox appears with the message \"Enter your time!\". If the input is in a different format, the string is split into hours, minutes, and seconds, which are then converted into integers. These individual values are combined into a single total number of seconds.\n",
    "\n",
    "If the input is correctly formatted and valid, the function calls ```countDown(totalSeconds)``` to start the countdown. If the input is incorrect—such as missing fields or invalid numbers—an error message is displayed as \"Invalid Format!\""
   ]
  },
  {
   "cell_type": "markdown",
   "id": "327345a5-07b9-4d1a-804d-cb4669b860ae",
   "metadata": {},
   "source": [
    "```\n",
    " def startTimer():\n",
    "    timeStr = entryWidget.get()  # Get the time input from the entry widget\n",
    "    if timeStr == \"00:00:00\":\n",
    "        messagebox.showinfo(\"Enter Your Time!\")\n",
    "    try:\n",
    "        if timeStr!=\"00:00:00\":\n",
    "            # Split the string (HH:MM:SS) and convert each part to integers\n",
    "            h, m, s = map(int, timeStr.split(\":\"))\n",
    "\n",
    "            # Convert the entire time to total seconds\n",
    "            totalSeconds = h * 3600 + m * 60 + s\n",
    "\n",
    "            # Start the countdown with the total seconds\n",
    "            countDown(totalSeconds)\n",
    "    except:\n",
    "        # If input format is incorrect, show error message\n",
    "        label.config(text=\"Invalid Format! Use HH:MM:SS\")\n"
   ]
  },
  {
   "cell_type": "markdown",
   "id": "aae16b78-f65c-4530-8465-c0d9d2a0fb71",
   "metadata": {},
   "source": [
    "## 3.Create the Label- Widget Function\n",
    "We create a function called ```countDown()``` to display and update the countdown timer. It takes a parameter named seconds. If the seconds value is non-negative, the function breaks it down into hours, minutes, and seconds using the ```divmod()``` function. The time is then formatted as hour:minute:second and displayed on the label widget. To ensure the countdown continues smoothly, the function uses ```root.after(1000, countDown, seconds - 1)``` to schedule itself to run again after one second, creating a loop without freezing the GUI. When the countdown reaches zero, it updates the label with a ```\"Time's up!\"``` message, signaling the end of the timer."
   ]
  },
  {
   "cell_type": "markdown",
   "id": "8f077dd4-3582-449c-a3a2-5297f75446f3",
   "metadata": {},
   "source": [
    "```\n",
    "# Recursive countdown function that updates the label every second\n",
    "def countDown(seconds):\n",
    "    if seconds >= 0:\n",
    "        # Convert total seconds back to hours, minutes, and seconds\n",
    "        h, rem = divmod(seconds, 3600)  # rem = remaining seconds after hours\n",
    "        m, s = divmod(rem, 60)          # split remainder into minutes and seconds\n",
    "\n",
    "        # Format the time with leading zeros (e.g., 01:05:09)\n",
    "        timeFormat = \"{:02d}:{:02d}:{:02d}\".format(h, m, s)\n",
    "\n",
    "        # Update the label with the formatted time\n",
    "        label.config(text=timeFormat)\n",
    "\n",
    "        # Schedule the function to run again after 1 second (1000 milliseconds)\n",
    "        root.after(1000, countDown, seconds - 1)\n",
    "    else:\n",
    "        # When time is up, display message\n",
    "        label.config(text=\"Time's up!\")"
   ]
  },
  {
   "cell_type": "markdown",
   "id": "d008d591-8b59-452d-8cab-be98bb65e87c",
   "metadata": {},
   "source": [
    "## 4. Design the User Interface(UI)\n",
    "To build the countdown timer interface, we begin by creating the main application window using ```tk.Tk()```. This window serves as the foundation of the graphical user interface. The title of the window is set to ```\"Countdown Timer\"```. We fix the window size. To enhance the visual appearance, the background color of the window is set which provides a clean and neutral look for the timer interface."
   ]
  },
  {
   "cell_type": "markdown",
   "id": "7f86244a-be2f-42be-ad60-54f4bcbd88d1",
   "metadata": {},
   "source": [
    "```\n",
    "# Create the main application window\n",
    "root = tk.Tk()\n",
    "root.title(\"Countdown Timer\")         # Set window title\n",
    "root.geometry(\"420x240\")              # Set fixed window size\n",
    "root.configure(bg=\"lightgrey\")        # Set background color of window"
   ]
  },
  {
   "cell_type": "markdown",
   "id": "4fa2779e-770a-4acf-ac64-9603b96ad986",
   "metadata": {},
   "source": [
    "## 5. Set Up Label and Frame Widgets \n",
    "To display the countdown time, a Label widget is created and configured to show the initial value ```\"00:00:00\"```. We put the font style and size. Then we put ```fill=\"both\"``` and ```expand=True``` so that the label stretches to fill available space.\n",
    "\n",
    "To better structure the layout, a separate Frame called ```middleFrame``` is created, also with a matching background color. This frame is used to neatly hold and center other widgets like the entry field and start button."
   ]
  },
  {
   "cell_type": "markdown",
   "id": "3713a9b5-182c-443a-bedd-c96626e55ed3",
   "metadata": {},
   "source": [
    "```\n",
    "# Create and place the label to display the countdown time\n",
    "label = tk.Label(\n",
    "    root,\n",
    "    text=\"00:00:00\",                  # Initial time\n",
    "    font=(\"Arial\", 14),              # Font style and size\n",
    "    bg=\"lightgrey\"                   # Match background color to window\n",
    ")\n",
    "label.pack(fill=\"both\", expand=True, padx=10, pady=10)  # Add padding and make label stretch\n",
    "\n",
    "# Create a frame to hold the Entry and Button widgets, for better centering\n",
    "middleFrame = tk.Frame(root, bg=\"lightgrey\")\n",
    "middleFrame.pack(expand=True)  # Use expand to center it vertically\n"
   ]
  },
  {
   "cell_type": "markdown",
   "id": "5886ee12-2484-4a9a-bb98-50ba32057723",
   "metadata": {},
   "source": [
    "## 6. Set Up Entry Widget and Button\n",
    "We creat the entry widget and place it. A default time is set```00:00:01\"``` which will display in the entry widget when we open the countdown timer application. To trigger the ```startTimer()``` function we creat a button as ```startButton``` and placed it. It is linked by ```command=startTimer```."
   ]
  },
  {
   "cell_type": "markdown",
   "id": "aa674c6a-ebc0-4d65-ac71-6f8ce0bdda2c",
   "metadata": {},
   "source": [
    "```\n",
    "# Create the entry widget for the user to input countdown time\n",
    "entryWidget = tk.Entry(\n",
    "    middleFrame,\n",
    "    font=(\"Helvetica\", 14),         # Font for the entry text\n",
    "    justify=\"center\",               # Center the text inside the entry box\n",
    "    width=15                        # Width of the entry box\n",
    ")\n",
    "entryWidget.pack(pady=5)          # Add vertical padding\n",
    "entryWidget.insert(0, \"00:00:01\") # Set default time (1 second)\n",
    "\n",
    "# Create the START button to trigger the countdown\n",
    "startButton = tk.Button(\n",
    "    middleFrame,\n",
    "    text=\"START\",                   # Button label\n",
    "    command=startTimer             # Link the button to the startTimer function\n",
    ")\n",
    "startButton.pack(pady=5)          # Add vertical padding\n"
   ]
  },
  {
   "cell_type": "markdown",
   "id": "a21ac03a-1269-4960-ab7f-3601d88e9100",
   "metadata": {},
   "source": [
    "## 7. Run the Application Loop\n",
    "At the end we must remember to run the application loop as  ```.mainloop()``` keeps the application running and responsive. Otherwise, without this line your GUI window will open and close immediatetly."
   ]
  },
  {
   "cell_type": "markdown",
   "id": "142616c9-fe1a-4b55-8e0b-2c31c89c0508",
   "metadata": {},
   "source": [
    "```\n",
    "root.mainloop()"
   ]
  },
  {
   "cell_type": "markdown",
   "id": "e9af487a-f905-45d1-a5d8-864593288640",
   "metadata": {},
   "source": [
    "So, this is how I built a Countdown Timer application using python tkinter. Hope this simple description helps python beginners build their own countdown timer."
   ]
  },
  {
   "cell_type": "code",
   "execution_count": null,
   "id": "3cac26ac-a0a3-4e5e-b17a-3b6e926c83cd",
   "metadata": {},
   "outputs": [],
   "source": []
  }
 ],
 "metadata": {
  "kernelspec": {
   "display_name": "Python 3 (ipykernel)",
   "language": "python",
   "name": "python3"
  },
  "language_info": {
   "codemirror_mode": {
    "name": "ipython",
    "version": 3
   },
   "file_extension": ".py",
   "mimetype": "text/x-python",
   "name": "python",
   "nbconvert_exporter": "python",
   "pygments_lexer": "ipython3",
   "version": "3.10.18"
  }
 },
 "nbformat": 4,
 "nbformat_minor": 5
}
