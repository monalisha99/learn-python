{
 "cells": [
  {
   "cell_type": "markdown",
   "id": "53b6238f-abe3-49ec-b71d-8de592a58e67",
   "metadata": {},
   "source": [
    "As a Python beginner I am always looking for ways to apply my basic Python skills to create different kinds of applications. One of the most useful projects is a text editor application. It is perfect for writing down notes and saving them to read later. Have you ever thought about creating your own text editor app? If yes, I am sure this thorough description of building my simple text editor will help you get started."
   ]
  },
  {
   "cell_type": "markdown",
   "id": "e6b1934a-83c5-45a0-adee-0f964e2de713",
   "metadata": {},
   "source": [
    "## Table of Contents\n",
    "1. Import GUI Modules\n",
    "2. Create a Function to Trigger the \"Save\" Button\n",
    "3. Create a Function to Trigger the \"Open\" Button\n",
    "4. Enable Mousewheel Scrolling for the Scrollbar\n",
    "5. Create the Main Application Window (GUI)\n",
    "6. Make the Textbox Resizable\n",
    "7. Add a Frame & Resize it\n",
    "8. Add Textbox, Scrollbar & \"Save\" Button\n",
    "9. Bind Mousewheel Event to the Textbox and Add \"Open\" Button\n",
    "10. Run the Main Application\n"
   ]
  },
  {
   "cell_type": "markdown",
   "id": "abd877a2-63b4-49af-856f-7456835c9201",
   "metadata": {},
   "source": [
    "### 1. Import GUI and Modules\n",
    "My first step was to import Tkinter. It is a graphical user interface library for Python. It comes with Python. So, you don't need to install it separately. I imported modules like filedialog, which allows a small file selection window to appear inside the main window; messagebox, which creates pop-up alert boxes; and font, which helps control the text style in my application."
   ]
  },
  {
   "cell_type": "markdown",
   "id": "10895883-5045-47ba-8287-f2b857fd85d8",
   "metadata": {},
   "source": [
    "```\n",
    "import tkinter as tk\n",
    "from tkinter import filedialog\n",
    "from tkinter import messagebox\n",
    "from tkinter import font\n"
   ]
  },
  {
   "cell_type": "markdown",
   "id": "895078af-c8f0-41f4-b1cd-1e92927dad90",
   "metadata": {},
   "source": [
    "### 2. Create a Function to Trigger \"Save\" Button \n",
    "I created a function that is triggered by the ```Save``` button I had already defined. Although I mention this function as the second point, you must define the buttons, frames, and other widgets before creating the function (see contents 5 & 6). This is a self-made function, so you can name it whatever you like. To make it simple and easy to understand, I named it ```save_task()```.\n",
    "\n",
    "From line 1, character 0 to the last character, all values entered in the textbox are retrieved and stored in a variable called \"texts.\" Any leading or trailing whitespace is removed using ```.strip()```.\n",
    "\n",
    "I added a condition to prevent saving an empty file when there is nothing in the textbox. If the save button is clicked without entering any text, a pop-up message box appears showing ```Textbox is empty. Nothing to save.```\n",
    "\n",
    "After that, a \"Save As\" file dialog box opens. I set it ```.txt``` as the default file type but also kept the option of saving as any file type by adding ```\"All Files\", \"*.*\"```\n",
    "\n",
    "The next block of code is responsible for saving the contents of the Tkinter application to the chosen file. First, it checks if it ```save_path``` contains a valid file path, which happens only if \"Save\" was clicked in the file dialog. Inside a try block, the file is opened in write mode using Python’s with statement, which ensures the file is automatically closed after the operation. The ```file.write(texts)``` line writes the text from the ```texts``` variable into the file. If the save is successful, a Tkinter information message box is displayed to notify the user. If any error occurs during the process—such as permission issues or an inaccessible location—the \"except\" block catches it and shows an error message instead."
   ]
  },
  {
   "cell_type": "markdown",
   "id": "0df50286-5aa0-4bee-b286-d51b1cf6058b",
   "metadata": {},
   "source": [
    "```\n",
    "def save_task():\n",
    "    # Get the text from the text box\n",
    "    texts = text_box.get(\"1.0\", tk.END).strip()\n",
    "\n",
    "    if not texts:\n",
    "        messagebox.showwarning(\"Empty\", \"Text box is empty. Nothing to save.\")\n",
    "        return\n",
    "\n",
    "    # Ask for save location (asksaveasfilename, not askopenfilename)\n",
    "    save_path = filedialog.asksaveasfilename(\n",
    "        defaultextension=\".txt\",\n",
    "        filetypes=[(\"Text Files\", \"*.txt\"), (\"All Files\", \"*.*\")]\n",
    "    )\n",
    "\n",
    "    if save_path:\n",
    "        try:\n",
    "            with open(save_path, \"w\") as file:\n",
    "                file.write(texts)\n",
    "            messagebox.showinfo(\"Saved\", \"File saved successfully!\")\n",
    "        except:\n",
    "            messagebox.showerror(\"Error\", \"Could not save file!\")"
   ]
  },
  {
   "cell_type": "markdown",
   "id": "97e1c379-a229-4680-ab52-6f14c099d769",
   "metadata": {},
   "source": [
    "### 3. Create a Function to Trigger \"Open\" Button\n",
    "This function runs when I click the \"Open\" button. When triggered, it opens a file selection dialog where you can choose a file to read. I set the default file type as ```.txt```, but there’s also an ```All Files``` option available in the dialog window. If a file is chosen, the program reads its content and stores it in a variable called ```content```. Before displaying the new data, the text box is completely cleared — from line 1, character 0, to the very last character. Then, the stored content is inserted into the empty text box. If any error occurs during this process, such as an invalid file or a read failure, the program displays an error pop-up message that says: ```Error Couldn't read file!```"
   ]
  },
  {
   "cell_type": "markdown",
   "id": "4694b535-526a-4c46-8619-65dbb349fe6b",
   "metadata": {},
   "source": [
    "```\n",
    "def open_file():\n",
    "\t# open the file dialog window on the screen when \"Open\" button is clicked\n",
    "\t# \"Text Files\" is the label shows in the file dialog dropdown \n",
    "\t# The lable also includes \"all files\"\n",
    "\t#  * means any name before .txt file(file type)\n",
    "\t# *.* means any name before and after dot\n",
    "\n",
    "\topen_filedialog_path2 = filedialog.askopenfilename(\n",
    "\t\tfiletypes= [(\"Text Files\", \"*.txt\"),(\"all Files\", \"*.*\")]\n",
    "\t\t)\n",
    "\n",
    "\tif open_filedialog_path2:\n",
    "\t\t# try to open file dialog path and read the files \n",
    "\t\ttry:\n",
    "\t\t\twith open(open_filedialog_path2,\"r\") as file:\n",
    "\t\t\t\tcontent = file.read()\n",
    "\t\t\t\t# clear previous content in the text box\n",
    "\t\t\t\ttext_box.delete(\"1.0\", tk.END)\n",
    "\t\t\t\t# insert the new content\n",
    "\t\t\t\ttext_box.insert(tk.END, content)\n",
    "\t\texcept:\n",
    "\t\t\tmessagebox.showerror(\"Error\", \"Could not read file!\")"
   ]
  },
  {
   "cell_type": "markdown",
   "id": "830a0a07-3833-474d-be5f-8d290054769c",
   "metadata": {},
   "source": [
    "### 4. Enable Mouse Wheel Scrolling for Scrollbar\n",
    "To make the text box more comfortable, I created a function called ```on_mouse_wheel()```. This function is triggered whenever the mouse wheel is scrolled while the cursor is over the text box.\n",
    "\n",
    "The event parameter provides information about the scroll action. In this case, event.delta tells us how much the mouse wheel has moved. A positive value means the wheel is scrolled down, and a negative value means it’s scrolled up.\n",
    "\n",
    "Inside the function, I use ```text_box.yview_scroll()``` to move the text vertically. The first argument controls the number of units to scroll, and the second argument, ```\"units,\"``` specifies the scroll type. Since event.delta can vary depending on the scroll direction, I multiply it by ```-1/120``` to ensure the scrolling feels natural and consistent in both directions.\n",
    "\n",
    "This simple function gives the text box a smooth scrolling experience, making navigation through long text much easier."
   ]
  },
  {
   "cell_type": "markdown",
   "id": "c3fad953-c438-444e-8bec-01837ebd157f",
   "metadata": {},
   "source": [
    "```\n",
    "def on_mouse_wheel(event):\n",
    "\t# This function is used to scroll the text box when mouse wheel is scrolled\n",
    "\t# event.delta is the amount of scroll\n",
    "\t# positive value means scroll down, negative means scroll up\n",
    "\ttext_box.yview_scroll(int(-1*(event.delta/120)), \"units\")\n"
   ]
  },
  {
   "cell_type": "markdown",
   "id": "830c3958-bacf-41d0-9745-6ec60bd3a326",
   "metadata": {},
   "source": [
    "### 5. Creating the Main Application Window (GUI)\n",
    "I start by creating the main application window using ```tk.Tk()```. This serves as the base container for all other widgets in the text editor. I set the title of the window t, which sets the width to 690 pixels and the height to 320 pixels. These values are just my choice; there’s no rule that says you have to use the same window name, title, or size. You can customize them to your own preference."
   ]
  },
  {
   "cell_type": "markdown",
   "id": "306caa61-f8f8-4aa2-9199-cb2c23448c19",
   "metadata": {},
   "source": [
    "```\n",
    "# create window\n",
    "root = tk.Tk()\n",
    "root.title(\"Text Editor\")\n",
    "root.geometry(\"690x320\")"
   ]
  },
  {
   "cell_type": "markdown",
   "id": "eaaf125f-1e44-4e4a-a163-bef2057a9d06",
   "metadata": {},
   "source": [
    "### 6. Make The Textbox Resizable\n",
    "It is important to make the text box flexible with the main window. Otherwise, when the window grows or shrinks, the text box will remain the same size, which can be uncomfortable to use. So, I use ```root.grid_rowconfigure(1, weight=1)``` to make row 1 resizable and ```root.grid_columnconfigure(0, weight=1)``` to make column 0 resizable. The ```weight=1``` setting means that when the window changes size, these rows and columns will expand or contract proportionally, keeping the layout neat."
   ]
  },
  {
   "cell_type": "markdown",
   "id": "dd67ea2b-8492-46ae-b220-ca2dadb9501c",
   "metadata": {},
   "source": [
    "```\n",
    "# textbox resize\n",
    "# (When resize the window, the Text box will grow/shrink with it)\n",
    "root.grid_rowconfigure(1, weight=1)  # Only row 1 is resizable\n",
    "root.grid_columnconfigure(0, weight=1)\n"
   ]
  },
  {
   "cell_type": "markdown",
   "id": "1fe1efcf-2b3e-4ca8-ae76-7a03965bc058",
   "metadata": {},
   "source": [
    "### 7. Add a Frame and Resize it\n",
    "I add a frame named ```frame1``` to the main window using ```tk.Frame(root, bg=\"gray\")```. This frame acts as a container for the text box and other related widgets. I place it with ```.grid```. \n",
    "\n",
    "I make the frame resizable so its contents can adjust when the main window is resized. I do this with ```frame1.grid_rowconfigure(1, weight=1)``` for row 1 and ```frame1.grid_columnconfigure(0, weight=1)``` for column 0. This ensures that the text box inside will grow or shrink smoothly."
   ]
  },
  {
   "cell_type": "markdown",
   "id": "b7b0cffc-0cd9-4e9c-8bb0-5b26ddeed50d",
   "metadata": {},
   "source": [
    "```\n",
    "# add a frame first\n",
    "frame1 = tk.Frame(root, bg=\"gray\")\n",
    "frame1.grid(row=1, column=0, columnspan=2, padx=15, pady=3, sticky='nsew')\n",
    "\n",
    "# Make frame1 row and column resizable\n",
    "frame1.grid_rowconfigure(1, weight=1)\n",
    "frame1.grid_columnconfigure(0, weight=1)"
   ]
  },
  {
   "cell_type": "markdown",
   "id": "60007226-c89b-4ab1-9db9-09df97dc7045",
   "metadata": {},
   "source": [
    "### 8. Add Textbox, Scrollbar & \"Save\" Button  \n",
    "To type and view texts I add the main text box as ```text_box``` inside the frame. I use a \"monospaced font\" (Courier New, size 16). Then with ```.grid``` I place it.\n",
    "\n",
    "To allow scrolling through long text, I add a vertical scrollbar next to the text box. The scrollbar is placed in row 1, column 1 so it doesn’t overlap with the text box, it means inside the frame but outside the textbox and I set its command to ```text_box.yview``` so it controls the text box’s vertical movement. The text box is also linked to the scrollbar with ```yscrollcommand=scroll_bar.set```.\n",
    "\n",
    "I also add the \"Save\" button, which is placed in row 0, column 0 and explains the button's colour, size etc. It runs the ```save_task()``` function when clicked.\n"
   ]
  },
  {
   "cell_type": "markdown",
   "id": "57ca1fa1-496e-4141-b2a2-0cbebbb86bf8",
   "metadata": {},
   "source": [
    "```\n",
    "# add textbox inside the frame\n",
    "# padx=(10,0) means, 10 pixels on the left(from the frame border) and o pixels on the right\n",
    "text_box = tk.Text(frame1, font=(\"Courier New\", 16), wrap='word')\n",
    "text_box.grid(row=1, column=0, padx=(4,0), pady=3, sticky='nsew')\n",
    "\n",
    "#text_box.window_create(\"end\", window=frame_in_textbox)\n",
    "\n",
    "#Add a scrollbar outside the text, but inside the layout frame\n",
    "# make sure scrollbar column is not 0, because frame and textbox lies in column=0\n",
    "scroll_bar = tk.Scrollbar(frame1, orient='vertical', command=text_box.yview, bg='lightblue', activebackground='blue')\n",
    "\n",
    "# padx=(5,10) means, 5 pixels on the left(from the textbox) and 10 pixels from the right\n",
    "scroll_bar.grid(row=1, column=1, padx=(5,10),sticky='ns')\n",
    "\n",
    "\n",
    "# Link the text box and scrollbar:\n",
    "# This ensures the scrollbar moves as the text scrolls vertically\n",
    "text_box.config(yscrollcommand=scroll_bar.set)\n",
    "\n",
    "# add \"save\" buttons\n",
    "save_button = tk.Button(root,text='Save', \n",
    "\twidth=8, \n",
    "\theight=2, \n",
    "\tbg='lightblue', \n",
    "\tfg='black', \n",
    "\tactivebackground='darkblue', \n",
    "\tactiveforeground='white',\n",
    "\tcommand=save_task)\n",
    "save_button.grid(row=0, column=0, sticky='ne', padx=108, pady=3)"
   ]
  },
  {
   "cell_type": "markdown",
   "id": "ca66c75c-bd73-46dd-b897-15de1c126425",
   "metadata": {},
   "source": [
    "### 9. Binding Mouse Wheel Event to The Textbox and Add \"Open\" Button\n",
    "I bind the mouse wheel events to the text box so I can scroll through it using my mouse wheel.\n",
    "* ```<Button-4>``` for scroll up and\n",
    "* ```<Button-5>``` for scroll down\n",
    "\n",
    "The \"Open\" button is placed in row 0, column 0, but positioned differently from the \"Save\" button using padx so it appears separately. When clicked, this button runs the ```open_file()``` function."
   ]
  },
  {
   "cell_type": "markdown",
   "id": "8162e568-1f53-426d-9567-c458a1073130",
   "metadata": {},
   "source": [
    "```\n",
    "# bind mousewheel event to the textbox\n",
    "# code only works on Linux(<Button-4> and <Button-5> events).\n",
    "text_box.bind(\"<Button-5>\", on_mouse_wheel)\n",
    "text_box.bind(\"<Button-4>\", on_mouse_wheel)\n",
    "\n",
    "# define open button and place it\n",
    "open_button = tk.Button(root, text='Open', width=8, height=2, bg='lightblue', fg='black', activebackground='darkblue', activeforeground='white', command=open_file)\n",
    "open_button.grid(row=0, column=0, sticky='ne', padx=15, pady=3)"
   ]
  },
  {
   "cell_type": "markdown",
   "id": "bb2b02d5-0125-4164-89aa-3f5785a94ba8",
   "metadata": {},
   "source": [
    "### 10. Run the Main Application\n",
    "At the end, I call ```root.mainloop()``` to start the application’s event loop. It keeps the window open and responsive. Without it, the program would create the window, and before you blink your eyes, it would immediately close.\n",
    "\n",
    "When you create your main application window, I suggest adding this line of code first so you can check if the window opens and works as expected. After that, you can add other widgets, functions, and features. In the final program, however, it should always be the very last line after all setup is complete."
   ]
  },
  {
   "cell_type": "markdown",
   "id": "dbec8db1-6f26-45c5-94d8-9a921db78fb6",
   "metadata": {},
   "source": [
    "```\n",
    "# Run the main application\n",
    "root.mainloop()\n"
   ]
  },
  {
   "cell_type": "code",
   "execution_count": null,
   "id": "632a1522-1106-45a5-8ed1-c7c2a2fae248",
   "metadata": {},
   "outputs": [],
   "source": []
  }
 ],
 "metadata": {
  "kernelspec": {
   "display_name": "Python 3 (ipykernel)",
   "language": "python",
   "name": "python3"
  },
  "language_info": {
   "codemirror_mode": {
    "name": "ipython",
    "version": 3
   },
   "file_extension": ".py",
   "mimetype": "text/x-python",
   "name": "python",
   "nbconvert_exporter": "python",
   "pygments_lexer": "ipython3",
   "version": "3.10.18"
  }
 },
 "nbformat": 4,
 "nbformat_minor": 5
}
