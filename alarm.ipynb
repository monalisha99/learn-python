{
 "cells": [
  {
   "cell_type": "markdown",
   "id": "288b8c56-36c3-4139-9e3a-40fa1a5a0962",
   "metadata": {},
   "source": [
    "### Table Of Contents\n",
    "1. Flowchart Of Alarm Clock\n",
    "2. Import Modules\n",
    "3. Create Global Variables\n",
    "4. Create A Function To Update Live Clock\n",
    "5. Create A Function To Set alarm\n",
    "6. Create A Function To Turn Off Alarm\n",
    "7. Set Up GUI\n",
    "8. Create Checkbox For Each Day\n",
    "9. Start Clock And Mainloop"
   ]
  },
  {
   "cell_type": "code",
   "execution_count": null,
   "id": "e4cf9e77-b812-4321-bd8b-8f7d583e7536",
   "metadata": {},
   "outputs": [],
   "source": []
  },
  {
   "cell_type": "markdown",
   "id": "dd00951e-1470-4a5b-aa4e-fca02e8469ea",
   "metadata": {},
   "source": [
    "### 2. Import Modules\n",
    "I am importing the necessary Python modules to build my Alarm Clock application using Tkinter. First, I bring in tkinter to create the graphical user interface and messagebox to display pop-up alerts. I also use datetime to fetch the current date and time, which is essential for setting and checking the alarm. The time module helps with delays like sleep, while threading ensures the alarm runs in the background without freezing the GUI. Finally, I include subprocess so I can run system commands, such as playing an audio file when the alarm goes off."
   ]
  },
  {
   "cell_type": "markdown",
   "id": "8ca8c9a8-3d95-4a72-ac3d-ecc88a0c3058",
   "metadata": {},
   "source": [
    "```\n",
    "# Import necessary modules\n",
    "import tkinter as tk                            \n",
    "from tkinter import messagebox                  \n",
    "from datetime import datetime                   # For current date/time\n",
    "import time                                     # For sleep\n",
    "import threading                                # To run alarm without freezing GUI\n",
    "import subprocess                               # To run system commands (play audio)"
   ]
  },
  {
   "cell_type": "markdown",
   "id": "e9ebfc43-3504-44fd-b724-5f89052b92db",
   "metadata": {},
   "source": [
    "### 3. Create Global Variables\n",
    "Here, I am creating global variables to manage the alarm functionality. The variable running is set to True, which I will use as a flag to control whether the alarm thread should keep running or stop. The variable alarm_thread is initialized as None, and later it will hold the reference to the thread that checks and triggers the alarm. These globals help me easily manage the state of the alarm across the program."
   ]
  },
  {
   "cell_type": "markdown",
   "id": "ebe2d784-c74a-440a-bb3f-eb8dcffb7ece",
   "metadata": {},
   "source": [
    "```\n",
    "# Global variables to manage alarm thread\n",
    "running = True\n",
    "alarm_thread = None"
   ]
  },
  {
   "cell_type": "markdown",
   "id": "15706ab4-304b-4088-b3c4-1ddff1947e4e",
   "metadata": {},
   "source": [
    "### 4. Create A Function To Update Live Clock\n",
    "In this function, I am updating the live clock that continuously displays the current time and day on the application. Using datetime.now(), I fetch the system’s present time and format it into a readable 12-hour format with AM/PM, as well as get the full weekday name. These values are then displayed on the GUI by updating the live_clock_label and live_day_label. Finally, I use root.after(1000, update_clock) to call the same function again every second, which keeps refreshing the display in real time without blocking the main application."
   ]
  },
  {
   "cell_type": "markdown",
   "id": "3a3495df-7a4a-488a-b416-def790b5d2c0",
   "metadata": {},
   "source": [
    "```\n",
    "# FUNCTION TO UPDATE LIVE CLOCK\n",
    "def update_clock():\n",
    "    current_time = datetime.now().strftime(\"%I:%M:%S %p\")  # Format current time (e.g., 08:45:01 PM)\n",
    "    current_day = datetime.now().strftime(\"%A\")            # Get full day name (e.g., \"Tuesday\")\n",
    "\n",
    "    # Update the labels with current time and day\n",
    "    live_clock_label.config(text=current_time)\n",
    "    live_day_label.config(text=current_day)\n",
    "\n",
    "    # Call this function again after 1 second (1000 milliseconds)\n",
    "    root.after(1000, update_clock)"
   ]
  },
  {
   "cell_type": "markdown",
   "id": "d7409e7b-51f6-456a-89de-c9f2385f349f",
   "metadata": {},
   "source": [
    "### 5. Create A Function To Set alarm\n",
    "In this part, I am defining the function to set the alarm. When the user enters a time and presses the alarm button, the program retrieves the input from the entry_time widget and displays a confirmation message on the screen. Inside the function, I create another function named alarm() that runs in a separate thread so the GUI remains responsive. This thread continuously checks the system’s current time against the user’s set alarm time. I also compare the selected weekday with the current day, ensuring the alarm only rings on chosen days. If both match, the alarm sound (alarm_clock.mp3) plays using subprocess.run, and a pop-up message “Wake Up!” is displayed. To avoid high CPU usage, I add a time.sleep(1) delay between checks. If something goes wrong, an error message box appears. Finally, I start the thread and store it in alarm_thread, which keeps the alarm running independently of the main application."
   ]
  },
  {
   "cell_type": "markdown",
   "id": "6f65d949-070d-4282-a629-a0b7a3c6cf93",
   "metadata": {},
   "source": [
    "```\n",
    "def set_alarm():\n",
    "    global running, alarm_thread\n",
    "    running = True                                          # Enable alarm loop\n",
    "    alarm_time = entry_time.get()                           # Get the alarm time entered by user\n",
    "    label.config(text=f\"Alarm set for {alarm_time}\")        # Show alarm time on screen\n",
    "\n",
    "    # Function to run in separate thread\n",
    "    def alarm():\n",
    "        try:\n",
    "            while running:\n",
    "                now = datetime.now()\n",
    "                current_time = now.strftime(\"%I:%M %p\").strip().upper()     # Format: \"08:30 PM\"\n",
    "                current_day = now.strftime(\"%A\")                            # e.g., \"Monday\"\n",
    "                alarm_time_clean = alarm_time.strip().upper()              # Clean user input\n",
    "\n",
    "                # Check: if current time == alarm time and the selected day matches\n",
    "                if current_time == alarm_time_clean and days_selected.get(current_day, tk.BooleanVar()).get():\n",
    "                    subprocess.run([\"mpg123\", \"alarm_clock.mp3\"])          # Play alarm sound (Linux)\n",
    "                    messagebox.showinfo(\"Alarm\", \"Wake Up!\")               # Show popup\n",
    "                    break\n",
    "                time.sleep(1)                                              # Wait 1 second before checking again\n",
    "        except:\n",
    "            messagebox.showerror(\"Error\", \"Something is wrong!\")           # Show error popup\n",
    "\n",
    "    # Start the alarm thread\n",
    "    alarm_thread = threading.Thread(target=alarm)\n",
    "    alarm_thread.start()"
   ]
  },
  {
   "cell_type": "markdown",
   "id": "bd527595-30f6-41b1-b6c0-ef0e701b9e86",
   "metadata": {},
   "source": [
    "### 6. Create A Function To Turn Off Alarm\n",
    "Here, I am creating the function to turn off the alarm. The variable running is set to False, which immediately stops the alarm loop running in the background thread. At the same time, the label on the screen is updated with the text “Alarm Stopped” to inform the user. Finally, I use the subprocess.run([\"pkill\", \"mpg123\"]) command to stop the audio player process (mpg123) that was playing the alarm sound. This ensures the alarm completely shuts down, both in the program and in the system’s audio process."
   ]
  },
  {
   "cell_type": "markdown",
   "id": "ebda47ab-d38f-4a3a-96de-783e993032f6",
   "metadata": {},
   "source": [
    "```\n",
    "# FUNCTION TO TURN OFF ALARM \n",
    "def off_alarm():\n",
    "    global running\n",
    "    running = False                                # Stop alarm loop\n",
    "    label.config(text=\"Alarm Stopped\")             # Show status on screen\n",
    "    subprocess.run([\"pkill\", \"mpg123\"])            # Kill audio process (Linux specific)\n"
   ]
  },
  {
   "cell_type": "markdown",
   "id": "70cb31d7-8aea-4781-a2dd-f7c8584fc4c4",
   "metadata": {},
   "source": [
    "### 7. Set Up GUI\n",
    "##### 7.1 Window:\n",
    "Here, I am initializing the main application window using tk.Tk(). I set the title of the window to “Alarm Clock”, which appears on the title bar. The background color is configured to white for a clean look, and the window size is set to 640x380 pixels to give enough space for all the widgets like the clock, alarm input, and buttons. This creates the base GUI where I will add all other elements of the alarm clock application."
   ]
  },
  {
   "cell_type": "markdown",
   "id": "aabc1f6b-494b-42b0-b695-6be4d78ae31a",
   "metadata": {},
   "source": [
    "```\n",
    "root = tk.Tk()\n",
    "root.title(\"Alarm Clock\")                          # Title of the window\n",
    "root.configure(bg=\"white\")                         # Background color\n",
    "root.geometry(\"640x380\")                           # Window size\n"
   ]
  },
  {
   "cell_type": "markdown",
   "id": "83124732-e7dd-4ae1-ad3a-a79d11c7927e",
   "metadata": {},
   "source": [
    "##### 7.2 Label\n",
    "In this part, I am creating and placing the labels for my alarm clock GUI. First, I define live_day_label to display the current day, styled with the Arial font, size 24, and a blue color on a white background. Next, I add live_clock_label, which will show the current time, using the same styling so both labels look consistent. Finally, I create a smaller label named label with the text “Set time”, which guides the user to enter their alarm time. I also use pack(pady=10) for each label to neatly space them out with padding in the window"
   ]
  },
  {
   "cell_type": "markdown",
   "id": "60484d41-df43-4c02-8ef6-2c11a37bd4d3",
   "metadata": {},
   "source": [
    "```\n",
    "# Live Day Label\n",
    "live_day_label = tk.Label(root, font=(\"Arial, 24\"), fg=\"blue\", bg=\"white\")\n",
    "live_day_label.pack(pady=10)\n",
    "\n",
    "# Live Clock Label\n",
    "live_clock_label = tk.Label(root, font=(\"Arial, 24\"), fg=\"blue\", bg=\"white\")\n",
    "live_clock_label.pack(pady=10)\n",
    "\n",
    "# Label for alarm setting\n",
    "label = tk.Label(root, text=\"Set time\", font=(\"Arial\", 14), fg=\"blue\", bg=\"white\")\n",
    "label.pack(pady=10)\n"
   ]
  },
  {
   "cell_type": "markdown",
   "id": "a39b82e1-370a-43dd-b221-5e59ee7bd9d9",
   "metadata": {},
   "source": [
    "##### 7.3 Entrybox\n",
    "Here, I am adding an entry widget where the user can type in the alarm time. I set the font to Arial, size 24, and give it a width of 30 characters with the text centered (justify=\"center\") to make it look neat. By default, the entry box is pre-filled with \"00:00 AM\", so the user knows the correct format to enter the time. I also use pack(pady=10, ipady=10) to add vertical spacing around the widget and increase the inner padding, making the entry field taller and easier to interact with."
   ]
  },
  {
   "cell_type": "markdown",
   "id": "2fd578dd-9683-4620-9d44-a9b018860dff",
   "metadata": {},
   "source": [
    "```\n",
    "entry_time = tk.Entry(root, font=(\"Arial, 24\"), width=30, justify=\"center\")\n",
    "entry_time.insert(0, \"00:00 AM\")                   # Default value\n",
    "entry_time.pack(pady=10, ipady=10)\n"
   ]
  },
  {
   "cell_type": "markdown",
   "id": "ac10f8a3-aeed-451d-bd56-1e14f9d42b30",
   "metadata": {},
   "source": [
    "##### 7.4 Frame\n",
    "Here, I am creating an empty frame inside the main window using tk.Frame(root). Right now, it doesn’t contain any widgets, but I placed it in the layout with pack(pady=5) so there is some spacing reserved. This frame can be useful later if I want to group buttons, checkboxes, or any other widgets together in an organized way without disturbing the existing layout. It works as a placeholder for future enhancements of the alarm clock application."
   ]
  },
  {
   "cell_type": "markdown",
   "id": "2b0bcdbb-ce8f-4b38-947b-f68e9fac6cff",
   "metadata": {},
   "source": [
    "```\n",
    "# Empty frame (for future use if needed)\n",
    "frame = tk.Frame(root)\n",
    "frame.pack(pady=5)\n"
   ]
  },
  {
   "cell_type": "markdown",
   "id": "36a8bc76-3e30-4a46-a1e6-ac5858c0d61e",
   "metadata": {},
   "source": [
    "##### 7.5 Buttons\n",
    "Here, I am creating the ON and OFF buttons to control the alarm.\n",
    "\n",
    "The ON button is styled with Arial, size 16, black text, and a light blue background. When the user clicks it, the set_alarm function is called, which activates the alarm in a separate thread. I also added styling for when the button is active: the background changes to blue and the text turns white, giving a clear visual response.\n",
    "\n",
    "The OFF button is designed similarly, with a light blue background and black text. When clicked, it triggers the off_alarm function, which stops the alarm sound and ends the alarm loop. Its active state highlights with a blue background and red text to indicate a strong stop action.\n",
    "\n",
    "Both buttons are placed neatly in the window with padding (pack(pady=10)), and I use ipady/ipadx to adjust the internal spacing, making them more user-friendly."
   ]
  },
  {
   "cell_type": "markdown",
   "id": "18fc8a33-9ba0-4cfc-9689-4822b667cc09",
   "metadata": {},
   "source": [
    "```\n",
    "# ON Button\n",
    "on_button = tk.Button(root, \n",
    "                      text=\"ON\", \n",
    "                      font=(\"Arial\", 16), \n",
    "                      fg=\"black\", \n",
    "                      bg=\"lightblue\", \n",
    "                      activebackground=\"blue\", \n",
    "                      activeforeground=\"white\", \n",
    "                      command=set_alarm)           # Calls set_alarm\n",
    "on_button.pack(pady=10, ipady=5)\n",
    "\n",
    "# OFF Button\n",
    "off_button = tk.Button(root, \n",
    "                       text=\"OFF\", \n",
    "                       font=(\"Arial\", 16), \n",
    "                       bg=\"lightblue\", \n",
    "                       fg=\"black\", \n",
    "                       activebackground=\"blue\", \n",
    "                       activeforeground=\"red\", \n",
    "                       command=off_alarm)          # Calls off_alarm\n",
    "off_button.pack(pady=10, ipadx=2)\n"
   ]
  },
  {
   "cell_type": "markdown",
   "id": "558141db-3d09-4b44-99c8-79f7135fd1cc",
   "metadata": {},
   "source": [
    "### 8. Create Checkbox For Each Day\n",
    "In this section, I am adding day selection checkboxes so the user can choose on which days the alarm should ring.\n",
    "* First, I create a dictionary days_selected to store the BooleanVar values of each day.\n",
    "* I define a list days containing all seven weekdays.\n",
    "* Then, I add a label “Select Day(s) for Alarm:” to guide the user.\n",
    "* A separate frame checkbox_frame is created to neatly hold all the checkboxes together.\n",
    "\n",
    "Inside a loop, I create one Checkbutton for each day, linked to a BooleanVar so the program can later check if that day is selected or not. The checkboxes are styled with Arial font, size 14, blue text, a light gray background, and an active state that highlights in red. I also set anchor=\"w\" to left-align the day names, and adjust padding for better spacing.\n",
    "\n",
    "Finally, each BooleanVar is stored in the days_selected dictionary with the day name as the key, making it easy to check later whether a specific day was chosen when triggering the alarm."
   ]
  },
  {
   "cell_type": "markdown",
   "id": "1469d14f-0cd1-47af-9988-ee628450b852",
   "metadata": {},
   "source": [
    "```\n",
    "# DAY SELECTION CHECKBOXES \n",
    "days_selected = {}                                 # Dictionary to store each day's BooleanVar\n",
    "days = [\"Monday\", \"Tuesday\", \"Wednesday\", \"Thursday\", \"Friday\", \"Saturday\", \"Sunday\"]\n",
    "\n",
    "# Label for day selection\n",
    "tk.Label(root, text=\"Select Day(s) for Alarm:\", font=(\"Arial, 24\"), fg=\"blue\", bg=\"white\").pack(pady=5, ipady=10)\n",
    "\n",
    "# Create a frame to hold checkboxes\n",
    "checkbox_frame = tk.Frame(root, bg=\"white\")\n",
    "checkbox_frame.pack(pady=10)\n",
    "\n",
    "# Add a checkbox for each day\n",
    "for i, day in enumerate(days):\n",
    "    var = tk.BooleanVar()                           # Variable to hold checkbox value\n",
    "    chk = tk.Checkbutton(checkbox_frame, \n",
    "                         text=day, \n",
    "                         variable=var, \n",
    "                         font=(\"Arial\", 14),\n",
    "                         fg=\"blue\",\n",
    "                         bg=\"lightgray\",\n",
    "                         activeforeground=\"red\", \n",
    "                         width=15,                  # Width of checkbox text\n",
    "                         anchor=\"w\",                # Left align text\n",
    "                         padx=10)                   # Padding\n",
    "    chk.grid(row=i, column=0, sticky=\"w\", padx=20, pady=10, ipady=2)\n",
    "\n",
    "    days_selected[day] = var                        # Save variable to dictionary\n"
   ]
  },
  {
   "cell_type": "markdown",
   "id": "9d2ae35c-536d-466f-a0d4-84bbe0e008a3",
   "metadata": {},
   "source": [
    "### 9. Start Clock And Mainloop  \n",
    "Here, I am starting the live clock and running the application’s main loop.\n",
    "\n",
    "First, I call update_clock(), which begins the continuous updating of the current time and day on the screen every second.\n",
    "\n",
    "Then, root.mainloop() is executed, which launches the Tkinter event loop. This keeps the GUI window open, listens for user actions (like button clicks, typing, or checkbox selection), and updates the interface accordingly.\n",
    "\n",
    "Without mainloop(), the window would close immediately after running the script, so this line is essential to keep the alarm clock application interactive and running."
   ]
  },
  {
   "cell_type": "markdown",
   "id": "ff6ccaf1-7c92-4422-a03b-fdc440fbd52d",
   "metadata": {},
   "source": [
    "```\n",
    "# START CLOCK AND MAINLOOP \n",
    "update_clock()                                     # Start updating time\n",
    "root.mainloop()                                    # Start GUI event loop\n"
   ]
  },
  {
   "cell_type": "code",
   "execution_count": null,
   "id": "077cadaf-b5ef-4e3c-adce-72727fb551d4",
   "metadata": {},
   "outputs": [],
   "source": []
  }
 ],
 "metadata": {
  "kernelspec": {
   "display_name": "Python 3 (ipykernel)",
   "language": "python",
   "name": "python3"
  },
  "language_info": {
   "codemirror_mode": {
    "name": "ipython",
    "version": 3
   },
   "file_extension": ".py",
   "mimetype": "text/x-python",
   "name": "python",
   "nbconvert_exporter": "python",
   "pygments_lexer": "ipython3",
   "version": "3.10.18"
  }
 },
 "nbformat": 4,
 "nbformat_minor": 5
}
