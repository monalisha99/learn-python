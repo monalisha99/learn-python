{
 "cells": [
  {
   "cell_type": "code",
   "execution_count": 13,
   "id": "ac73c796-7e29-4f38-8d6a-61461038ae76",
   "metadata": {},
   "outputs": [
    {
     "name": "stdout",
     "output_type": "stream",
     "text": [
      "AssamS\n",
      "654\n",
      "abs\n"
     ]
    }
   ],
   "source": [
    "# File handling-1\n",
    "# Here, files is a folder and inside it data.txt is a file\n",
    "# the outcomes will from the file- Data.txt\n",
    "with open(\"files/data.txt\",\"r\")as file:\n",
    "    data = file.read()\n",
    "    print(data)"
   ]
  },
  {
   "cell_type": "code",
   "execution_count": 17,
   "id": "ee21d59a-6b40-4765-bb5c-8cc378805e45",
   "metadata": {},
   "outputs": [
    {
     "name": "stdin",
     "output_type": "stream",
     "text": [
      "Enter your messege that you wish to save Hi,I am John.I live in Assam.I am 25 years old.\n"
     ]
    }
   ],
   "source": [
    "#File handling-2\n",
    "# Here, we take user input to write anything in the file.\n",
    "userInput= input(\"Enter your messege that you wish to save\")\n",
    "with open(\"files/data.txt\",\"w\")as file:\n",
    "    file.write(userInput)\n"
   ]
  },
  {
   "cell_type": "code",
   "execution_count": 13,
   "id": "e59cf09c-9d19-4e55-8113-abfc0e671030",
   "metadata": {},
   "outputs": [],
   "source": [
    "# 3(a).Binary files\n",
    "# here we can create files through this process\n",
    "import pickle\n",
    "phonebook ={\n",
    "    'a':'1',\n",
    "    'b':'2',\n",
    "    'c':'3'\n",
    "}\n",
    "with open('files/phonebook.dat','wb') as bin:\n",
    "    pickle.dump(phonebook,bin)\n",
    "\n",
    "# if you Opening a file in 'wb' mode clears its contents immediately. If you accidentally open it in 'wb' (write) and then try to read, it will be empty."
   ]
  },
  {
   "cell_type": "code",
   "execution_count": 16,
   "id": "10cda25f-5e20-4ab5-a7ab-64c8776e8c9b",
   "metadata": {},
   "outputs": [
    {
     "name": "stdout",
     "output_type": "stream",
     "text": [
      "{'a': '1', 'b': '2', 'c': '3'}\n"
     ]
    }
   ],
   "source": [
    "# 3(b). now we can open the file as-\n",
    "with open('files/phonebook.dat','rb')as bin:\n",
    "    data = pickle.load(bin)\n",
    "    print(data)"
   ]
  },
  {
   "cell_type": "code",
   "execution_count": 23,
   "id": "60ba9738-01fd-4d4a-b056-0618f19b13cb",
   "metadata": {},
   "outputs": [
    {
     "name": "stdout",
     "output_type": "stream",
     "text": [
      "john 32 $45000\n"
     ]
    }
   ],
   "source": [
    "# 4. Python classes\n",
    "class employee:\n",
    "   def showEmployeeData(self):\n",
    "      print(\"john\",\"32\",\"$45000\")\n",
    "\n",
    "# Your employee class is defined correctly, but it doesn't create any employee data inside the class—just prints fixed values. Also, you haven't created an object or called the method yet.\n",
    "\n",
    "# creat object\n",
    "emp1 = employee()\n",
    "\n",
    "# call the method\n",
    "emp1.showEmployeeData()"
   ]
  },
  {
   "cell_type": "code",
   "execution_count": null,
   "id": "25370511-bb77-4400-bbf6-0f50850ac3c1",
   "metadata": {},
   "outputs": [],
   "source": []
  }
 ],
 "metadata": {
  "kernelspec": {
   "display_name": "Python 3 (ipykernel)",
   "language": "python",
   "name": "python3"
  },
  "language_info": {
   "codemirror_mode": {
    "name": "ipython",
    "version": 3
   },
   "file_extension": ".py",
   "mimetype": "text/x-python",
   "name": "python",
   "nbconvert_exporter": "python",
   "pygments_lexer": "ipython3",
   "version": "3.10.18"
  }
 },
 "nbformat": 4,
 "nbformat_minor": 5
}
