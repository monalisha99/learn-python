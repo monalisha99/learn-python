{
 "cells": [
  {
   "cell_type": "code",
   "execution_count": 13,
   "id": "ac73c796-7e29-4f38-8d6a-61461038ae76",
   "metadata": {},
   "outputs": [
    {
     "name": "stdout",
     "output_type": "stream",
     "text": [
      "AssamS\n",
      "654\n",
      "abs\n"
     ]
    }
   ],
   "source": [
    "# File handling-1\n",
    "# Here, files is a folder and inside it data.txt is a file\n",
    "# the outcomes will from the file- Data.txt\n",
    "with open(\"files/data.txt\",\"r\")as file:\n",
    "    data = file.read()\n",
    "    print(data)"
   ]
  },
  {
   "cell_type": "code",
   "execution_count": 17,
   "id": "ee21d59a-6b40-4765-bb5c-8cc378805e45",
   "metadata": {},
   "outputs": [
    {
     "name": "stdin",
     "output_type": "stream",
     "text": [
      "Enter your messege that you wish to save Hi,I am John.I live in Assam.I am 25 years old.\n"
     ]
    }
   ],
   "source": [
    "#File handling-2\n",
    "# Here, we take user input to write anything in the file.\n",
    "userInput= input(\"Enter your messege that you wish to save\")\n",
    "with open(\"files/data.txt\",\"w\")as file:\n",
    "    file.write(userInput)\n"
   ]
  },
  {
   "cell_type": "code",
   "execution_count": null,
   "id": "e59cf09c-9d19-4e55-8113-abfc0e671030",
   "metadata": {},
   "outputs": [],
   "source": []
  }
 ],
 "metadata": {
  "kernelspec": {
   "display_name": "Python 3 (ipykernel)",
   "language": "python",
   "name": "python3"
  },
  "language_info": {
   "codemirror_mode": {
    "name": "ipython",
    "version": 3
   },
   "file_extension": ".py",
   "mimetype": "text/x-python",
   "name": "python",
   "nbconvert_exporter": "python",
   "pygments_lexer": "ipython3",
   "version": "3.10.18"
  }
 },
 "nbformat": 4,
 "nbformat_minor": 5
}
