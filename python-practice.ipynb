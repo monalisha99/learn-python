{
 "cells": [
  {
   "cell_type": "markdown",
   "id": "cac70dea-f400-44ff-9e55-8abc57f71503",
   "metadata": {},
   "source": [
    "# Python Practice Notebook\n",
    "Hi I am Monalisha Borgohain, I am using this Jupyter Notebook to practice python concepts and make necessary notes.\n",
    "\n",
    "Topics:\n",
    " - Introduction to Python\n",
    " - Data Types\n",
    " - Conditional Statement (if, elif, else)\n",
    " - Loops (for and while)\n",
    " - Python lists and list operations (indexing, slicing)\n",
    " - Functions (User defined, Predefined)"
   ]
  },
  {
   "cell_type": "markdown",
   "id": "7c9a56df-08cd-4155-ad2f-7c63c5fdfec5",
   "metadata": {},
   "source": [
    "### Datatype and variables\n",
    "1. Write a calculator program to input two variables and output their sum, product, and quotient."
   ]
  },
  {
   "cell_type": "code",
   "execution_count": 4,
   "id": "263ad5b3-3362-4290-b746-ff10cadeb2b2",
   "metadata": {},
   "outputs": [
    {
     "name": "stdout",
     "output_type": "stream",
     "text": [
      "Sum: 21\n",
      "Product:  108\n",
      "Quotient:  1\n"
     ]
    }
   ],
   "source": [
    "def calculate(a,b):\n",
    "    print(\"Sum:\", a+b)\n",
    "    print(\"Product: \", a*b)\n",
    "    print(\"Quotient: \", int(a/b))\n",
    "\n",
    "# Calling the function.\n",
    "calculate(12, 9)"
   ]
  },
  {
   "cell_type": "markdown",
   "id": "9484df5e-5193-4c87-8f87-0b731258794f",
   "metadata": {},
   "source": [
    "2. Swap two variables without using third variable."
   ]
  },
  {
   "cell_type": "code",
   "execution_count": 5,
   "id": "854a1048-3501-45e3-af4a-470144b6c73c",
   "metadata": {},
   "outputs": [
    {
     "name": "stdout",
     "output_type": "stream",
     "text": [
      "A, B before swapping:  45 , 6\n",
      "A, B after swapping:  6 , 45\n"
     ]
    }
   ],
   "source": [
    "def swap(a,b):\n",
    "    print(\"A, B before swapping: \", a, \",\", b)\n",
    "    a, b = b, a\n",
    "    print(\"A, B after swapping: \", a, \",\", b)\n",
    "\n",
    "# Call the function\n",
    "\n",
    "swap(45, 6)\n",
    "    "
   ]
  },
  {
   "cell_type": "markdown",
   "id": "4f2ef619-7ee8-439f-9f3a-a0449a2586d8",
   "metadata": {},
   "source": [
    "3. Print Datatype of entered value"
   ]
  },
  {
   "cell_type": "code",
   "execution_count": 11,
   "id": "69437965-743b-44f4-a6bd-f7787af84efe",
   "metadata": {},
   "outputs": [
    {
     "name": "stdin",
     "output_type": "stream",
     "text": [
      "Enter value: 6.0\n"
     ]
    },
    {
     "name": "stdout",
     "output_type": "stream",
     "text": [
      "<class 'str'>\n"
     ]
    }
   ],
   "source": [
    "value = input(\"Enter value:\")\n",
    "print(type(value))"
   ]
  },
  {
   "cell_type": "code",
   "execution_count": null,
   "id": "d3cfd0bd-f511-4957-aa83-84bb29fc643e",
   "metadata": {},
   "outputs": [],
   "source": []
  }
 ],
 "metadata": {
  "kernelspec": {
   "display_name": "Python 3 (ipykernel)",
   "language": "python",
   "name": "python3"
  },
  "language_info": {
   "codemirror_mode": {
    "name": "ipython",
    "version": 3
   },
   "file_extension": ".py",
   "mimetype": "text/x-python",
   "name": "python",
   "nbconvert_exporter": "python",
   "pygments_lexer": "ipython3",
   "version": "3.10.18"
  }
 },
 "nbformat": 4,
 "nbformat_minor": 5
}
