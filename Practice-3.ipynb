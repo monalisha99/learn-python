{
 "cells": [
  {
   "cell_type": "markdown",
   "id": "7aec8aca-52f8-4374-9f5d-562f1cf8e984",
   "metadata": {},
   "source": [
    "### Practice notebook 3\n",
    "Here i will practice conditionals.\n",
    "1. Check if entered number is positive, negative, or zero."
   ]
  },
  {
   "cell_type": "code",
   "execution_count": 3,
   "id": "4e8a91cf-c714-4799-84c2-bd4de97a4034",
   "metadata": {},
   "outputs": [
    {
     "name": "stdin",
     "output_type": "stream",
     "text": [
      " enter a number:  0\n"
     ]
    },
    {
     "name": "stdout",
     "output_type": "stream",
     "text": [
      "The number is zero\n"
     ]
    }
   ],
   "source": [
    "num = int(input(\" enter a number: \"))\n",
    "if num > 0:\n",
    "    print(\"The number is positive\")\n",
    "elif num < 0:\n",
    "    print(\"The number is negative\")\n",
    "else:\n",
    "    print(\"The number is zero\")"
   ]
  },
  {
   "cell_type": "code",
   "execution_count": 11,
   "id": "be3073aa-faf2-4f82-8540-0411292fb554",
   "metadata": {},
   "outputs": [
    {
     "name": "stdin",
     "output_type": "stream",
     "text": [
      " enter a number : 12\n"
     ]
    },
    {
     "name": "stdout",
     "output_type": "stream",
     "text": [
      "The number is positive\n"
     ]
    }
   ],
   "source": [
    "def checknum(p):\n",
    "    if p > 0:\n",
    "        print(\"The number is positive\")\n",
    "    elif p < 0:\n",
    "        print(\"The number is negative\")\n",
    "    else:\n",
    "        print(\"The number is zero\")\n",
    "\n",
    "x = int(input(\" enter a number :\"))\n",
    "# Call the function\n",
    "checknum(x)"
   ]
  },
  {
   "cell_type": "markdown",
   "id": "d7a7c8a6-5d05-4bf9-ae09-c1e7dcfb062b",
   "metadata": {},
   "source": [
    "### 2. Grade calculator\n",
    "Enter a number from 0 to 100, and grade as per range as A,B,C,D,E.\n",
    " - A (80,100]\n",
    " - B(60,80]\n",
    " - C(40,60]\n",
    " - D(20,40]\n",
    " - E[0,20]"
   ]
  },
  {
   "cell_type": "code",
   "execution_count": 13,
   "id": "b46ef58c-6df2-4c7c-a79a-1c1d6bf23fa6",
   "metadata": {},
   "outputs": [
    {
     "name": "stdin",
     "output_type": "stream",
     "text": [
      "enter your marks : 78\n"
     ]
    },
    {
     "name": "stdout",
     "output_type": "stream",
     "text": [
      "You have received grade B\n"
     ]
    }
   ],
   "source": [
    "def grade(h):\n",
    "    if 80 < h <= 100:\n",
    "        print(\"You have received grade A\")\n",
    "    elif 60 < h <= 80:\n",
    "        print(\"You have received grade B\")\n",
    "    elif 40 < h <= 60:\n",
    "        print(\"You have received grade C\")\n",
    "    elif 20 < h <= 40:\n",
    "        print(\"You have received grade D\")\n",
    "    else:\n",
    "        print(\"You have received grade E\")\n",
    "\n",
    "# take user input\n",
    "a = int(input(\"enter your marks :\"))\n",
    "# Call the function\n",
    "grade(a)\n",
    "        "
   ]
  },
  {
   "cell_type": "code",
   "execution_count": null,
   "id": "bcde462d-68a4-4b4c-91d5-256c21a87bb6",
   "metadata": {},
   "outputs": [],
   "source": []
  }
 ],
 "metadata": {
  "kernelspec": {
   "display_name": "Python 3 (ipykernel)",
   "language": "python",
   "name": "python3"
  },
  "language_info": {
   "codemirror_mode": {
    "name": "ipython",
    "version": 3
   },
   "file_extension": ".py",
   "mimetype": "text/x-python",
   "name": "python",
   "nbconvert_exporter": "python",
   "pygments_lexer": "ipython3",
   "version": "3.10.18"
  }
 },
 "nbformat": 4,
 "nbformat_minor": 5
}
