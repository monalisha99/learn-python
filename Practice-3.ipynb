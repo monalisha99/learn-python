{
 "cells": [
  {
   "cell_type": "markdown",
   "id": "7aec8aca-52f8-4374-9f5d-562f1cf8e984",
   "metadata": {},
   "source": [
    "### Practice notebook 3\n",
    "Here i will practice conditionals.\n",
    "1. Check if entered number is positive, negative, or zero."
   ]
  },
  {
   "cell_type": "code",
   "execution_count": 3,
   "id": "4e8a91cf-c714-4799-84c2-bd4de97a4034",
   "metadata": {},
   "outputs": [
    {
     "name": "stdin",
     "output_type": "stream",
     "text": [
      " enter a number:  0\n"
     ]
    },
    {
     "name": "stdout",
     "output_type": "stream",
     "text": [
      "The number is zero\n"
     ]
    }
   ],
   "source": [
    "num = int(input(\" enter a number: \"))\n",
    "if num > 0:\n",
    "    print(\"The number is positive\")\n",
    "elif num < 0:\n",
    "    print(\"The number is negative\")\n",
    "else:\n",
    "    print(\"The number is zero\")"
   ]
  },
  {
   "cell_type": "code",
   "execution_count": 11,
   "id": "be3073aa-faf2-4f82-8540-0411292fb554",
   "metadata": {},
   "outputs": [
    {
     "name": "stdin",
     "output_type": "stream",
     "text": [
      " enter a number : 12\n"
     ]
    },
    {
     "name": "stdout",
     "output_type": "stream",
     "text": [
      "The number is positive\n"
     ]
    }
   ],
   "source": [
    "def checknum(p):\n",
    "    if p > 0:\n",
    "        print(\"The number is positive\")\n",
    "    elif p < 0:\n",
    "        print(\"The number is negative\")\n",
    "    else:\n",
    "        print(\"The number is zero\")\n",
    "\n",
    "x = int(input(\" enter a number :\"))\n",
    "# Call the function\n",
    "checknum(x)"
   ]
  },
  {
   "cell_type": "markdown",
   "id": "d7a7c8a6-5d05-4bf9-ae09-c1e7dcfb062b",
   "metadata": {},
   "source": [
    "### 2. Grade calculator\n",
    "Enter a number from 0 to 100, and grade as per range as A,B,C,D,E.\n",
    " - A (80,100]\n",
    " - B(60,80]\n",
    " - C(40,60]\n",
    " - D(20,40]\n",
    " - E[0,20]"
   ]
  },
  {
   "cell_type": "code",
   "execution_count": 13,
   "id": "b46ef58c-6df2-4c7c-a79a-1c1d6bf23fa6",
   "metadata": {},
   "outputs": [
    {
     "name": "stdin",
     "output_type": "stream",
     "text": [
      "enter your marks : 78\n"
     ]
    },
    {
     "name": "stdout",
     "output_type": "stream",
     "text": [
      "You have received grade B\n"
     ]
    }
   ],
   "source": [
    "def grade(h):\n",
    "    if 80 < h <= 100:\n",
    "        print(\"You have received grade A\")\n",
    "    elif 60 < h <= 80:\n",
    "        print(\"You have received grade B\")\n",
    "    elif 40 < h <= 60:\n",
    "        print(\"You have received grade C\")\n",
    "    elif 20 < h <= 40:\n",
    "        print(\"You have received grade D\")\n",
    "    else:\n",
    "        print(\"You have received grade E\")\n",
    "\n",
    "# take user input\n",
    "a = int(input(\"enter your marks :\"))\n",
    "# Call the function\n",
    "grade(a)\n",
    "        "
   ]
  },
  {
   "cell_type": "markdown",
   "id": "2af2c98c-d3de-4ffc-97b2-84cf75493e5e",
   "metadata": {},
   "source": [
    "### 3. Leap Year checker\n",
    "1. Check if the year is leap year or not\n"
   ]
  },
  {
   "cell_type": "code",
   "execution_count": 10,
   "id": "ba0f6014-a17e-4755-a783-ef581215483f",
   "metadata": {},
   "outputs": [
    {
     "name": "stdin",
     "output_type": "stream",
     "text": [
      "enter the year: 2005\n"
     ]
    },
    {
     "name": "stdout",
     "output_type": "stream",
     "text": [
      " This is not a leap year\n"
     ]
    }
   ],
   "source": [
    "def leap(year):\n",
    " \n",
    "      if year % 4 == 0:\n",
    "         print(\" This is a leap year\")\n",
    "      else:\n",
    "         print(\" This is not a leap year\")\n",
    "# Take user input\n",
    "a = int(input(\"enter the year:\"))\n",
    "# call the function\n",
    "leap(a)\n",
    "\n",
    "\n",
    "\n",
    "\n",
    "           "
   ]
  },
  {
   "cell_type": "markdown",
   "id": "929fb5f9-aecc-42d3-a3e6-4bc295c09a64",
   "metadata": {},
   "source": [
    "#### 4. Find maximum from a list without using max()"
   ]
  },
  {
   "cell_type": "code",
   "execution_count": 4,
   "id": "ff13e9e9-b236-4bbe-8075-4c23c4fe8c98",
   "metadata": {},
   "outputs": [
    {
     "data": {
      "text/plain": [
       "9"
      ]
     },
     "execution_count": 4,
     "metadata": {},
     "output_type": "execute_result"
    }
   ],
   "source": [
    "lista = [1, 6, 9, 6, 5, 7]\n",
    "# Using pre-defined function\n",
    "max(lista)"
   ]
  },
  {
   "cell_type": "code",
   "execution_count": 21,
   "id": "5c9dcf52-3d26-4a3e-972d-63d1a4ea6d0c",
   "metadata": {},
   "outputs": [
    {
     "name": "stdout",
     "output_type": "stream",
     "text": [
      " The maximum number is : 6\n"
     ]
    }
   ],
   "source": [
    "#if we have to find the maximum number of y, then follow the following steps\n",
    "y = [1,2,6,3]\n",
    "\n",
    "# We assuming here the maximum number as`Maxivalue` is the firt number\n",
    "# you can also write as- Maxivalue = 1\n",
    "Maxivalue = y[0]\n",
    "for i in y:\n",
    "    if i > Maxivalue:\n",
    "        Maxivalue = i\n",
    "\n",
    "# in print we do not write print('The maximum number is:' i)\n",
    "# because i is last value in y\n",
    "\n",
    "print(\" The maximum number is :\", Maxivalue)"
   ]
  },
  {
   "cell_type": "code",
   "execution_count": 22,
   "id": "7134d31f-ee81-4d6f-ab0d-7d25e630fe70",
   "metadata": {},
   "outputs": [
    {
     "name": "stdout",
     "output_type": "stream",
     "text": [
      "The maximum number is : 9\n"
     ]
    }
   ],
   "source": [
    "p = (1,2,3,9,4,5)\n",
    "\n",
    "Maximum = 1\n",
    "for i in p:\n",
    "    if i > Maximum:\n",
    "        Maximum = i\n",
    "\n",
    "print('The maximum number is :', Maximum)\n",
    "\n",
    "\n"
   ]
  },
  {
   "cell_type": "markdown",
   "id": "55ea77c2-ad4f-4a09-9492-a134b847e8b5",
   "metadata": {},
   "source": [
    "#### 5. Find Minimum Number( using pre-defined and without pre-defined function)"
   ]
  },
  {
   "cell_type": "code",
   "execution_count": 23,
   "id": "46ddfdd1-fbde-4ff2-aa3b-738d2da3fed5",
   "metadata": {},
   "outputs": [
    {
     "name": "stdout",
     "output_type": "stream",
     "text": [
      "The minimun number is : 2\n"
     ]
    }
   ],
   "source": [
    "# without using pre-defined function\n",
    "a =(9,4,2,7)\n",
    "\n",
    "Minimum = 9\n",
    "for i in a:\n",
    "    if i < Minimum:\n",
    "        Minimum = i\n",
    "\n",
    "print(\"The minimun number is :\", Minimum)\n",
    "    "
   ]
  },
  {
   "cell_type": "code",
   "execution_count": 24,
   "id": "fd6458fb-d383-4158-b44e-ec889964fa5d",
   "metadata": {},
   "outputs": [
    {
     "data": {
      "text/plain": [
       "1"
      ]
     },
     "execution_count": 24,
     "metadata": {},
     "output_type": "execute_result"
    }
   ],
   "source": [
    "#using pre-defined function\n",
    "a =(7,8,1,4)\n",
    "min(a)"
   ]
  },
  {
   "cell_type": "markdown",
   "id": "f50a0eac-4398-4899-be50-92760aa39f6e",
   "metadata": {},
   "source": [
    "#### 6. Bubble sort (list)"
   ]
  },
  {
   "cell_type": "code",
   "execution_count": 29,
   "id": "791ca092-e151-465c-b1ad-238603c8c6f6",
   "metadata": {},
   "outputs": [
    {
     "name": "stdout",
     "output_type": "stream",
     "text": [
      "Sorted list in ascending order: [1, 2, 3, 5, 6, 7, 8, 9]\n"
     ]
    }
   ],
   "source": [
    "# 1. Write the following numbers in ascending order\n",
    "y = [8,2,6,1,5,3,9,7]\n",
    "a = len(y)\n",
    "for i in range(a):\n",
    "    for j in range(0, a-i-1):\n",
    "        if y[j] > y[j+1]:\n",
    "# swap the variables\n",
    "            y[j], y[j+1] = y[j+1], y[j]\n",
    "\n",
    "print(\"Sorted list in ascending order:\", y)\n",
    "\n"
   ]
  },
  {
   "cell_type": "code",
   "execution_count": 37,
   "id": "e4dee167-2e0c-4839-8f0c-25a1fe475df4",
   "metadata": {},
   "outputs": [
    {
     "name": "stdout",
     "output_type": "stream",
     "text": [
      "descending order: [9, 6, 5, 4, 2, 1]\n"
     ]
    }
   ],
   "source": [
    "# 2. Write the following number in a descending order\n",
    "q =[9,5,2,6,4,1]\n",
    "s =len(q)\n",
    "for i in range(s):\n",
    "    for j in range(0, s-i-1):\n",
    "        if q[j] < q[j+1]:\n",
    "            q[j],q[j+1] = q[j+1], q[j]\n",
    "print(\"descending order:\", q)      \n"
   ]
  },
  {
   "cell_type": "code",
   "execution_count": 40,
   "id": "a59bf6dc-59a4-42d3-80bf-2156512d03a2",
   "metadata": {},
   "outputs": [
    {
     "name": "stdout",
     "output_type": "stream",
     "text": [
      "the descending form : [109, 25, 17, 11, 8, 7, 6, 2]\n"
     ]
    }
   ],
   "source": [
    "# 3. Write the following numberes in descending order\n",
    "p =[11,2,7,8,25,17,6,109]\n",
    "r = len(p)\n",
    "for i in range(r):\n",
    "    for j in range(0, r-i-1):\n",
    "        if p[j] < p[j+1]:\n",
    "            p[j], p[j+1] = p[j+1], p[j]\n",
    "\n",
    "print(\"the descending form :\", p)"
   ]
  },
  {
   "cell_type": "markdown",
   "id": "d316a955-df99-4e34-87c7-0c0f86e2f90a",
   "metadata": {},
   "source": [
    "#### 4. Count occurrences"
   ]
  },
  {
   "cell_type": "code",
   "execution_count": 62,
   "id": "703054ae-b262-4c92-b068-464915572b6e",
   "metadata": {},
   "outputs": [
    {
     "name": "stdout",
     "output_type": "stream",
     "text": [
      "the number 5 appeared 9 times.\n"
     ]
    }
   ],
   "source": [
    "#. 1\n",
    "a = (1,1,1,1,1,1,1,1,1)\n",
    "# here we assume `counted` as integer\n",
    "counted = a.count(1)\n",
    "print(\"the number 5 appeared\", counted, \"times.\")\n"
   ]
  },
  {
   "cell_type": "code",
   "execution_count": 63,
   "id": "3a5b506e-9b73-4ef8-95d5-beaba9f9a11e",
   "metadata": {},
   "outputs": [
    {
     "name": "stdout",
     "output_type": "stream",
     "text": [
      "The number three appeared 14 times.\n"
     ]
    }
   ],
   "source": [
    "# 2.\n",
    "y = [3,3,3,3,3,3,3,3,3,3,3,3,3,3]\n",
    "\n",
    "u = y.count(3)\n",
    "print(\"The number three appeared\", u, \"times.\")\n"
   ]
  },
  {
   "cell_type": "code",
   "execution_count": 67,
   "id": "7d65ec2c-d862-4cbc-9727-870589707885",
   "metadata": {},
   "outputs": [
    {
     "name": "stdout",
     "output_type": "stream",
     "text": [
      "The number one appeares 6 times.\n",
      "The number five appeares 8 times.\n"
     ]
    }
   ],
   "source": [
    "# 3.\n",
    "r = (1,1,1,1,1,1,5,5,5,5,5,5,5,5)\n",
    "y = r.count(1)\n",
    "s = r.count(5)\n",
    "print(\"The number one appeares\", y, \"times.\")\n",
    "print(\"The number five appeares\", s, \"times.\")\n",
    "      "
   ]
  },
  {
   "cell_type": "code",
   "execution_count": 68,
   "id": "28e7adf0-8b47-4295-895b-f779bf2db479",
   "metadata": {},
   "outputs": [
    {
     "name": "stdout",
     "output_type": "stream",
     "text": [
      "the number one appears 6 times\n",
      "The number three appears 2 times\n"
     ]
    }
   ],
   "source": [
    "# 4.\n",
    "y =[1,7,4,1,5,3,1,1,3,9,7,1,1]\n",
    "r = y.count(1)\n",
    "s = y.count(3)\n",
    "print(\"the number one appears\", r, \"times\")\n",
    "print(\"The number three appears\", s, \"times\")"
   ]
  },
  {
   "cell_type": "code",
   "execution_count": null,
   "id": "7262b10e-a4ca-4eea-b969-16175c514d1e",
   "metadata": {},
   "outputs": [],
   "source": []
  }
 ],
 "metadata": {
  "kernelspec": {
   "display_name": "Python 3 (ipykernel)",
   "language": "python",
   "name": "python3"
  },
  "language_info": {
   "codemirror_mode": {
    "name": "ipython",
    "version": 3
   },
   "file_extension": ".py",
   "mimetype": "text/x-python",
   "name": "python",
   "nbconvert_exporter": "python",
   "pygments_lexer": "ipython3",
   "version": "3.10.18"
  }
 },
 "nbformat": 4,
 "nbformat_minor": 5
}
