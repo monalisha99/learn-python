{
 "cells": [
  {
   "cell_type": "markdown",
   "id": "e9aa1186-8bfd-4ea9-bb3c-5da23dbbcf28",
   "metadata": {},
   "source": [
    "## 1. Data types and Variables\n"
   ]
  },
  {
   "cell_type": "code",
   "execution_count": 1,
   "id": "301889e0-8105-4280-8878-3a7add29e03b",
   "metadata": {},
   "outputs": [
    {
     "name": "stdout",
     "output_type": "stream",
     "text": [
      "Hi my name is Monalisha Borgohain.\n"
     ]
    }
   ],
   "source": [
    "#1.1 write your name.\n",
    "name = (\"Monalisha\")\n",
    "print(\"Hi my name is\", name, \"Borgohain.\")"
   ]
  },
  {
   "cell_type": "code",
   "execution_count": 7,
   "id": "febb0fb1-c485-47dd-9d4e-b630a164969b",
   "metadata": {},
   "outputs": [
    {
     "name": "stdout",
     "output_type": "stream",
     "text": [
      "I am 26 years old.\n"
     ]
    }
   ],
   "source": [
    "# 1.2 Write your age.\n",
    "age = \"26\"\n",
    "print(\"I am\", age, \"years old.\")\n"
   ]
  },
  {
   "cell_type": "code",
   "execution_count": 6,
   "id": "5d6c0d4d-c593-4f58-aa50-4dea2f92ae71",
   "metadata": {},
   "outputs": [
    {
     "name": "stdout",
     "output_type": "stream",
     "text": [
      " I am 51.534 meters.\n"
     ]
    }
   ],
   "source": [
    "# 1.3 Write your height.\n",
    "height = 51.534 \n",
    "print(\" I am\", height,\"meters.\")"
   ]
  },
  {
   "cell_type": "code",
   "execution_count": 11,
   "id": "a35001f9-9761-4ece-afe1-9892f8d67ccd",
   "metadata": {},
   "outputs": [
    {
     "name": "stdout",
     "output_type": "stream",
     "text": [
      "You are not a student.\n"
     ]
    }
   ],
   "source": [
    "# 1.4 Check you are a student or not\n",
    "student = False # True\n",
    "if student:\n",
    "    print(\"You are a student.\")\n",
    "else:\n",
    "    print(\"You are not a student.\")\n",
    "    "
   ]
  },
  {
   "cell_type": "code",
   "execution_count": 16,
   "id": "c9e41b4f-c86c-45b6-867b-f675c53386d4",
   "metadata": {},
   "outputs": [
    {
     "name": "stdin",
     "output_type": "stream",
     "text": [
      "Are you a student? : (yes/no) yes\n"
     ]
    },
    {
     "name": "stdout",
     "output_type": "stream",
     "text": [
      "You are a student.\n"
     ]
    }
   ],
   "source": [
    "# 1.4.1 Check you are a student or not(using user input)\n",
    "answer = input(\"Are you a student? : (yes/no)\")\n",
    "student = answer.lower()== \"yes\"\n",
    "if student:\n",
    "    print( \"You are a student.\")\n",
    "else:\n",
    "    print(\"You are not a student.\")\n",
    "\n",
    "    "
   ]
  },
  {
   "cell_type": "markdown",
   "id": "ec70c4e0-2b60-4d2a-b5f2-ed779462d41e",
   "metadata": {},
   "source": [
    "## 2. Conditional Statements"
   ]
  },
  {
   "cell_type": "code",
   "execution_count": 19,
   "id": "2b3db071-d655-473b-ae18-c36c3b55e9ba",
   "metadata": {},
   "outputs": [
    {
     "name": "stdin",
     "output_type": "stream",
     "text": [
      " Enter your number: 9\n"
     ]
    },
    {
     "name": "stdout",
     "output_type": "stream",
     "text": [
      "The number is not even.\n"
     ]
    }
   ],
   "source": [
    "# 2.1 Check even numbres (using user-input)\n",
    "# using user input\n",
    "number = int(input(\" Enter your number:\"))\n",
    "if number % 2 == 0:\n",
    "    print(\"The number is even.\")\n",
    "else:\n",
    "    print(\"The number is not even.\")\n",
    "             \n"
   ]
  },
  {
   "cell_type": "code",
   "execution_count": 22,
   "id": "2ecdb0c1-bb6b-490c-8fd9-21f8c5e08a6c",
   "metadata": {},
   "outputs": [
    {
     "name": "stdin",
     "output_type": "stream",
     "text": [
      "Enter your number; 12\n"
     ]
    },
    {
     "name": "stdout",
     "output_type": "stream",
     "text": [
      "The number is not odd.\n"
     ]
    }
   ],
   "source": [
    "# 2.2 Check odd numbers (using user-input)\n",
    "# using user input\n",
    "number = int(input(\"Enter your number;\"))\n",
    "if number % 2!= 0:\n",
    "    print( \"The number is odd.\")\n",
    "else:\n",
    "    print(\"The number is not odd.\")\n",
    "    \n"
   ]
  },
  {
   "cell_type": "code",
   "execution_count": 26,
   "id": "16c5a57e-9d38-4870-9a68-b1c336c1b371",
   "metadata": {},
   "outputs": [
    {
     "name": "stdin",
     "output_type": "stream",
     "text": [
      " Enter your number: 9.77\n"
     ]
    },
    {
     "name": "stdout",
     "output_type": "stream",
     "text": [
      "The number is rational.\n"
     ]
    }
   ],
   "source": [
    "# 2.3 Check rational numbers (using user-input)\n",
    "number = float(input(\" Enter your number:\"))\n",
    "\n",
    "# isinstance() is a built-in function used to check the type of a variable or value.\n",
    "if isinstance(number, (int, float)):\n",
    "    print(\"The number is rational.\")\n",
    "else:\n",
    "    print(\"The number is not rational.\")\n",
    "          \n"
   ]
  },
  {
   "cell_type": "code",
   "execution_count": 9,
   "id": "0af50230-f67f-44c5-8a62-9513b5516b0a",
   "metadata": {},
   "outputs": [
    {
     "name": "stdin",
     "output_type": "stream",
     "text": [
      " Enter your age: 18\n"
     ]
    },
    {
     "name": "stdout",
     "output_type": "stream",
     "text": [
      "You are eligible to vote.\n"
     ]
    }
   ],
   "source": [
    "# 2.4 Check age  (using user-input)\n",
    "number = int(input(\" Enter your age:\"))\n",
    "if number >= 18:\n",
    "    print(\"You are eligible to vote.\")\n",
    "else:\n",
    "    print(\"You are not eligible to vote.\")\n",
    "\n",
    "    \n",
    "             \n"
   ]
  },
  {
   "cell_type": "code",
   "execution_count": 30,
   "id": "76d8078b-0948-468c-bc38-1548015a792f",
   "metadata": {},
   "outputs": [
    {
     "name": "stdin",
     "output_type": "stream",
     "text": [
      "Enter the year: 2004\n"
     ]
    },
    {
     "name": "stdout",
     "output_type": "stream",
     "text": [
      " This is a leap year.\n"
     ]
    }
   ],
   "source": [
    "# 2.5 Check Leap year  (using user-input)\n",
    "year = int(input(\"Enter the year:\"))\n",
    "if year % 4== 0:\n",
    "    print(\" This is a leap year.\")\n",
    "else:\n",
    "    print(\"This is not a leap year\")\n"
   ]
  },
  {
   "cell_type": "code",
   "execution_count": 36,
   "id": "d2f20150-d8ec-40f0-8a3a-8eeac57cde99",
   "metadata": {},
   "outputs": [
    {
     "name": "stdin",
     "output_type": "stream",
     "text": [
      "Enter your marks: 45\n"
     ]
    },
    {
     "name": "stdout",
     "output_type": "stream",
     "text": [
      " You have achieved grade B.\n"
     ]
    }
   ],
   "source": [
    "# 2.6 Check grade\n",
    "marks = float(input(\"Enter your marks:\"))\n",
    "if marks >= 80:\n",
    "    print(\"You have achieved grade A+.\")\n",
    "elif 80 > marks >= 60:\n",
    "    print(\"You have achieved grade A.\")\n",
    "elif 60 > marks >= 40:\n",
    "    print(\" You have achieved grade B.\")\n",
    "else:\n",
    "    print(\"You have achieved grade C\")\n",
    "\n",
    "\n",
    "\n",
    "    \n",
    "    "
   ]
  },
  {
   "cell_type": "code",
   "execution_count": 48,
   "id": "d318ea61-35f6-403a-95d3-4a47f335ccd7",
   "metadata": {},
   "outputs": [
    {
     "name": "stdin",
     "output_type": "stream",
     "text": [
      "Enter your number: 18\n"
     ]
    },
    {
     "name": "stdout",
     "output_type": "stream",
     "text": [
      "The number is only divisible by 3.\n"
     ]
    }
   ],
   "source": [
    "# 2.7 Check divisibility\n",
    "\n",
    "#\"Divisible by 3 and 5\"\n",
    "number = int(input(\"Enter your number:\"))\n",
    "if number % 3== 0 and number % 5 == 0:\n",
    "    print(\"The number is divisible by 3 and 5.\")\n",
    "elif number % 3 == 0:\n",
    "    print(\"The number is only divisible by 3.\")\n",
    "elif number % 5 == 0:\n",
    "    print(\"The number is only divisible by 5.\")\n",
    "else:\n",
    "    print(\"Not divisible by 3 and 5.\")\n",
    "    \n",
    "\n",
    "    \n"
   ]
  },
  {
   "cell_type": "code",
   "execution_count": 50,
   "id": "16814e40-3f79-4c85-9118-1a655784d3bf",
   "metadata": {},
   "outputs": [
    {
     "name": "stdin",
     "output_type": "stream",
     "text": [
      "Enter your number: 19\n"
     ]
    },
    {
     "name": "stdout",
     "output_type": "stream",
     "text": [
      "The number is not divisible by 3.\n"
     ]
    }
   ],
   "source": [
    "#\"Only divisible by 3\"\n",
    "\n",
    "number = int(input(\"Enter your number:\"))\n",
    "if number % 3 == 0:\n",
    "    print(\"The number is divisible by 3.\")\n",
    "else:\n",
    "    print(\"The number is not divisible by 3.\")"
   ]
  },
  {
   "cell_type": "code",
   "execution_count": 52,
   "id": "6310c48e-dc02-4955-9b72-49690a96451d",
   "metadata": {},
   "outputs": [
    {
     "name": "stdin",
     "output_type": "stream",
     "text": [
      "Enter your number: 100\n"
     ]
    },
    {
     "name": "stdout",
     "output_type": "stream",
     "text": [
      "The number is divisible by 5\n"
     ]
    }
   ],
   "source": [
    "#\"Only divisible by 5\"\n",
    "number = int(input(\"Enter your number:\"))\n",
    "if number % 5 == 0:\n",
    "    print(\"The number is divisible by 5\")\n",
    "else:\n",
    "    print('The number is not divisible by 5.')\n",
    "    \n"
   ]
  },
  {
   "cell_type": "code",
   "execution_count": 53,
   "id": "42e9757a-3f16-46c7-a745-452b8a864f4f",
   "metadata": {},
   "outputs": [
    {
     "name": "stdin",
     "output_type": "stream",
     "text": [
      "Enter your number 15\n"
     ]
    },
    {
     "name": "stdout",
     "output_type": "stream",
     "text": [
      "The number is divisible by 3 and 5.\n"
     ]
    }
   ],
   "source": [
    "#\"Not divisible by 3 or 5\"\n",
    "number = int(input(\"Enter your number\"))\n",
    "if number % 3!= 0 and number % 5 != 0:\n",
    "    print(\"The number is not divisible by 3 and 5.\")\n",
    "else:\n",
    "    print(\"The number is divisible by 3 and 5.\")\n",
    "             "
   ]
  },
  {
   "cell_type": "code",
   "execution_count": 60,
   "id": "075c606b-4550-42b9-8442-bfcf282b1677",
   "metadata": {},
   "outputs": [
    {
     "name": "stdin",
     "output_type": "stream",
     "text": [
      "Enter first number: 13\n",
      "Enter second number: 8\n"
     ]
    },
    {
     "name": "stdout",
     "output_type": "stream",
     "text": [
      "The maximum number is: 13\n"
     ]
    }
   ],
   "source": [
    "# Find maximum between two numbers (using user-input)\n",
    "a = int(input(\"Enter first number:\"))\n",
    "b = int(input(\"Enter second number:\"))\n",
    "\n",
    "if a > b:\n",
    "    print(\"The maximum number is:\", a)\n",
    "else:\n",
    "    print(\"The maximum number is:\", b)\n",
    "\n",
    "\n",
    "             "
   ]
  },
  {
   "cell_type": "markdown",
   "id": "0f28cf3e-71a9-48ab-9b22-96aa2e442988",
   "metadata": {},
   "source": [
    "## 3. List Practice"
   ]
  },
  {
   "cell_type": "code",
   "execution_count": 54,
   "id": "6315c066-40a0-4e01-9801-f04bea533cc0",
   "metadata": {},
   "outputs": [
    {
     "name": "stdout",
     "output_type": "stream",
     "text": [
      "The maximum number is: 17\n"
     ]
    }
   ],
   "source": [
    "# 3.1 Find the maximum number\n",
    "number = [3,8,6,17,3,1]\n",
    "A = max(number)\n",
    "print(\"The maximum number is:\", A)"
   ]
  },
  {
   "cell_type": "code",
   "execution_count": 62,
   "id": "c5169352-633c-4806-b01a-76f9619e0492",
   "metadata": {},
   "outputs": [
    {
     "name": "stdout",
     "output_type": "stream",
     "text": [
      "The minimum number is: 13\n"
     ]
    }
   ],
   "source": [
    "# 3.2 Find the minimum number\n",
    "numbers =[7,9,45,2,8]\n",
    "A = min(numbers)\n",
    "print(\"The minimum number is:\", a)"
   ]
  },
  {
   "cell_type": "code",
   "execution_count": 64,
   "id": "ac8c4725-ce32-4e95-885d-d6d101e510d0",
   "metadata": {},
   "outputs": [
    {
     "name": "stdout",
     "output_type": "stream",
     "text": [
      "The last number is: 11\n"
     ]
    }
   ],
   "source": [
    "# 3.3 Find the last element\n",
    "numbers = [5,1,4,2,7,12,11]\n",
    "\n",
    "# to find last element from a list use : variable[-1]\n",
    "A = numbers[-1]\n",
    "print(\"The last number is:\", A)"
   ]
  },
  {
   "cell_type": "code",
   "execution_count": 5,
   "id": "ff5f3e0f-6c4a-48f4-9484-c6bc52a6b5ab",
   "metadata": {},
   "outputs": [
    {
     "name": "stdout",
     "output_type": "stream",
     "text": [
      "[3, 5, 7, 8, 11, 15]\n"
     ]
    }
   ],
   "source": [
    "# 3.4 Ascending order\n",
    "#numbers =[7,8,3,11,15,5]\n",
    "# A = sorted(numbers)\n",
    "# print(A)\n",
    "\n",
    "numbers =[7,8,3,11,15,5]\n",
    "numbers.sort()\n",
    "print(numbers)\n"
   ]
  },
  {
   "cell_type": "code",
   "execution_count": 7,
   "id": "e159a666-68b2-48a6-868f-60e40c6eac4b",
   "metadata": {},
   "outputs": [
    {
     "name": "stdout",
     "output_type": "stream",
     "text": [
      "[13, 11, 7, 6, 4, 2]\n"
     ]
    }
   ],
   "source": [
    "# 3.5 Descending order\n",
    "\n",
    "#numbers =[4,2,6,11,13,7]\n",
    "#numbers.sort(reverse = True)\n",
    "#print(numbers)\n",
    "\n",
    "numbers = [4,2,6,11,13,7]\n",
    "A = sorted(numbers, reverse = True)\n",
    "print(A)\n"
   ]
  },
  {
   "cell_type": "code",
   "execution_count": 8,
   "id": "c0b7d668-8004-46ee-908d-dd10746b1246",
   "metadata": {},
   "outputs": [
    {
     "name": "stdout",
     "output_type": "stream",
     "text": [
      "[3, 1, 5, 8, 11, 5, 12]\n"
     ]
    }
   ],
   "source": [
    "# 3.6 Add number 12 in a list\n",
    "\n",
    "numbers =[3,1,5,8,11,5]\n",
    "numbers.append(12)\n",
    "print(numbers)\n"
   ]
  },
  {
   "cell_type": "markdown",
   "id": "2c962764-f335-4d4b-886f-d347b5f9c13f",
   "metadata": {},
   "source": [
    "## 4. Lambda Functions \n"
   ]
  },
  {
   "cell_type": "code",
   "execution_count": 2,
   "id": "e495547b-528e-44f8-a66d-8693cd27c1d3",
   "metadata": {},
   "outputs": [
    {
     "name": "stdout",
     "output_type": "stream",
     "text": [
      "8\n"
     ]
    }
   ],
   "source": [
    "# 4.1 Add numbers 5 and 3 \n",
    "add = lambda a, b: a + b\n",
    "print(add(5, 3))"
   ]
  },
  {
   "cell_type": "code",
   "execution_count": 1,
   "id": "6a49dfd5-f028-426e-8c0b-b0161da9834a",
   "metadata": {},
   "outputs": [
    {
     "name": "stdout",
     "output_type": "stream",
     "text": [
      "84\n"
     ]
    }
   ],
   "source": [
    "# 4.2 Multiply 12 and 7 \n",
    "multiply = lambda a,b: a * b\n",
    "print(multiply(12, 7))"
   ]
  },
  {
   "cell_type": "code",
   "execution_count": 4,
   "id": "576dddd0-047f-43ec-ac12-6948938944d2",
   "metadata": {},
   "outputs": [
    {
     "name": "stdout",
     "output_type": "stream",
     "text": [
      "3136\n"
     ]
    }
   ],
   "source": [
    "# 4.3 Find square of 56 \n",
    "square = lambda a:a * a\n",
    "print(square(56))"
   ]
  },
  {
   "cell_type": "markdown",
   "id": "5510a196-2b69-474f-8fd1-d1b533fdee83",
   "metadata": {},
   "source": [
    "## 5. Recursive Function"
   ]
  },
  {
   "cell_type": "code",
   "execution_count": 12,
   "id": "2c096f20-1b7c-4626-835c-ef26e5c431e8",
   "metadata": {},
   "outputs": [
    {
     "name": "stdout",
     "output_type": "stream",
     "text": [
      "40320\n"
     ]
    }
   ],
   "source": [
    "# 5.1 Find factorial of 8\n",
    "def factorial(n):\n",
    "    if n == 1:\n",
    "        return 1   # base case\n",
    "    return n * factorial(n - 1)   # recursive call\n",
    "print(factorial(8))\n",
    "        \n",
    "    "
   ]
  },
  {
   "cell_type": "code",
   "execution_count": 13,
   "id": "d3f6425a-678c-4a4f-817c-33d4111f3692",
   "metadata": {},
   "outputs": [
    {
     "name": "stdout",
     "output_type": "stream",
     "text": [
      "55\n"
     ]
    }
   ],
   "source": [
    "# 5.2 Find sum of first 10 natural number\n",
    "def natural_sum(n):\n",
    "    if n == 1:\n",
    "        return 1\n",
    "    else:\n",
    "        return n + natural_sum (n- 1)\n",
    "print(natural_sum(10))                                "
   ]
  },
  {
   "cell_type": "code",
   "execution_count": 15,
   "id": "db329c53-ad22-4a55-b068-3948ebb3b7e1",
   "metadata": {},
   "outputs": [
    {
     "name": "stdout",
     "output_type": "stream",
     "text": [
      "9\n",
      "8\n",
      "7\n",
      "6\n",
      "5\n",
      "4\n",
      "3\n",
      "2\n",
      "1\n"
     ]
    }
   ],
   "source": [
    "# 5.3 Print numbers from 9 to 1\n",
    "def print_numbers(n):\n",
    "    if n == 0:\n",
    "        return\n",
    "    print(n)             # print before recursive call\n",
    "    print_numbers(n - 1)-  # recursive call\n",
    "print_numbers(9)\n",
    "    "
   ]
  },
  {
   "cell_type": "code",
   "execution_count": 16,
   "id": "1a6bdcce-45e9-499a-886c-6a65677912f8",
   "metadata": {},
   "outputs": [
    {
     "name": "stdout",
     "output_type": "stream",
     "text": [
      "1\n",
      "2\n",
      "3\n",
      "4\n",
      "5\n",
      "6\n",
      "7\n"
     ]
    }
   ],
   "source": [
    "# 5.4 Print numbers from 1 to 7\n",
    "def print_numbers(n):\n",
    "    if n == 0:\n",
    "        return\n",
    "    print_numbers(n - 1)  # recursive call first\n",
    "    print(n)              # then print\n",
    "print_numbers(7)"
   ]
  },
  {
   "cell_type": "code",
   "execution_count": 6,
   "id": "bf11ca5e-3434-4f46-a83d-4e4b8e2f50f4",
   "metadata": {},
   "outputs": [
    {
     "name": "stdout",
     "output_type": "stream",
     "text": [
      "8\n"
     ]
    }
   ],
   "source": [
    "def donothing(n):\n",
    "    if n == 0:\n",
    "       return\n",
    "    print(n)\n",
    "donothing(8)"
   ]
  },
  {
   "cell_type": "markdown",
   "id": "940b63da-a9b6-4750-b666-4956bc0f870b",
   "metadata": {},
   "source": [
    "## 6. User-Defined Functions"
   ]
  },
  {
   "cell_type": "code",
   "execution_count": 2,
   "id": "c1d4e376-bd54-4680-bd17-cd910f165b49",
   "metadata": {},
   "outputs": [
    {
     "name": "stdout",
     "output_type": "stream",
     "text": [
      "Hi everyone! Good morning.\n"
     ]
    }
   ],
   "source": [
    "# 6.1 Functions with no Prameter and no Return value\n",
    "def greet():\n",
    "    print(\"Hi everyone! Good morning.\")\n",
    "greet()"
   ]
  },
  {
   "cell_type": "code",
   "execution_count": 3,
   "id": "c711bfc6-82e5-41eb-bc59-9b7370d1b2c8",
   "metadata": {},
   "outputs": [
    {
     "name": "stdout",
     "output_type": "stream",
     "text": [
      "Hi dear Alex\n"
     ]
    }
   ],
   "source": [
    "#. 6.2 Functions with Parameter but no Return value\n",
    "def greet_people(name):\n",
    "    print(\"Hi dear\", name)\n",
    "greet_people(\"Alex\")"
   ]
  },
  {
   "cell_type": "code",
   "execution_count": 7,
   "id": "c4ec678b-8f79-481f-95bb-9fc4dac7ed21",
   "metadata": {},
   "outputs": [
    {
     "name": "stdout",
     "output_type": "stream",
     "text": [
      "The sum is: 49\n"
     ]
    }
   ],
   "source": [
    "# 6.3 Functions with Parameter and Return value\n",
    "def add_num(a, b):\n",
    "    return a + b\n",
    "result= add_num(44, 5)\n",
    "print(\"The sum is:\", result)"
   ]
  },
  {
   "cell_type": "code",
   "execution_count": 10,
   "id": "7259a961-e62c-497c-9483-bb94cdf8cbe7",
   "metadata": {},
   "outputs": [
    {
     "name": "stdout",
     "output_type": "stream",
     "text": [
      " Hi! Welcome to the Python Learning.\n"
     ]
    }
   ],
   "source": [
    "# 6.4 Functions with no Parameter and Return value\n",
    "def wel_come():\n",
    "    return \" Hi! Welcome to the Python Learning.\"\n",
    "message = wel_come()\n",
    "print(message)"
   ]
  },
  {
   "cell_type": "markdown",
   "id": "4acc08f9-d1de-4018-a4e6-2d85d5c77662",
   "metadata": {},
   "source": [
    "## 7. File Handling"
   ]
  },
  {
   "cell_type": "code",
   "execution_count": 4,
   "id": "0c2cb146-fc29-4121-be78-dc439779f346",
   "metadata": {},
   "outputs": [
    {
     "name": "stdout",
     "output_type": "stream",
     "text": [
      "Hi,I am John.I live in Assam.I am 25 years old.\n"
     ]
    }
   ],
   "source": [
    "# 7.1 Reading a file\n",
    "# files is a folder name\n",
    "# inside the folder data.txt is a file\n",
    "# to read what inside the file we can follow the code below\n",
    "\n",
    "with open(\"files/data.txt\", \"r\")as file:\n",
    "    variable = file.read()\n",
    "    print(variable)\n"
   ]
  },
  {
   "cell_type": "code",
   "execution_count": 14,
   "id": "049b3906-dead-49b7-be37-6eb91e09b7f7",
   "metadata": {},
   "outputs": [
    {
     "name": "stdin",
     "output_type": "stream",
     "text": [
      " hi everyone.Good morning. I am learning python basics.\n"
     ]
    }
   ],
   "source": [
    "# 7.2 Writing to a file\n",
    "userinput = input()\n",
    "with open(\"files/data.txt\", \"w\") as file:\n",
    "    file.write(userinput)\n",
    "    # here you can write to close the file\n",
    "    # file.close()"
   ]
  },
  {
   "cell_type": "code",
   "execution_count": 13,
   "id": "de6ff1f9-8e3d-41ec-a55d-9a83d5364e29",
   "metadata": {},
   "outputs": [],
   "source": [
    "# 7.3 Use append instead of overwriting\n",
    "with open(\"files/data.txt\", \"a\") as file:\n",
    "    file.write(\"\\nNew line added. I am not feeling very good.\")\n",
    "    file.close()"
   ]
  },
  {
   "cell_type": "code",
   "execution_count": 15,
   "id": "8d03e86b-486c-4f97-b431-8fefc3ea8dd6",
   "metadata": {},
   "outputs": [
    {
     "name": "stdout",
     "output_type": "stream",
     "text": [
      "File exists!\n"
     ]
    }
   ],
   "source": [
    "# 7.4 Checking if files exist\n",
    "import os\n",
    "\n",
    "if os.path.exists(\"files/data.txt\"):\n",
    "    print(\"File exists!\")\n",
    "else:\n",
    "    print(\"File not found.\")"
   ]
  },
  {
   "cell_type": "code",
   "execution_count": 1,
   "id": "742df392-db8c-4062-ac01-ba87ddc18f32",
   "metadata": {},
   "outputs": [],
   "source": [
    "# 7.5 Copy text from one file to another\n",
    "# with open(\"source.txt\", \"r\") as src:\n",
    "#    data = src.read()\n",
    "# with open(\"destination.txt\", \"w\")as dest:\n",
    "#   dest.write(data)"
   ]
  },
  {
   "cell_type": "markdown",
   "id": "ad2eba54-a60f-48b9-bf1a-0b1defff211c",
   "metadata": {},
   "source": [
    "## 8. Error Practice"
   ]
  },
  {
   "cell_type": "code",
   "execution_count": 2,
   "id": "8d67e7fa-f056-4932-81d2-103b58b183e6",
   "metadata": {},
   "outputs": [
    {
     "name": "stdout",
     "output_type": "stream",
     "text": [
      "You cannot devide by zero\n"
     ]
    }
   ],
   "source": [
    "# 8.1 Zero Division Error\n",
    "try:\n",
    "    x = 10/0\n",
    "except:\n",
    "    print(\"You cannot devide by zero.\")\n"
   ]
  },
  {
   "cell_type": "code",
   "execution_count": 3,
   "id": "ef18f3b0-fa2a-409f-9a31-ebcce3b17bbf",
   "metadata": {},
   "outputs": [
    {
     "name": "stdout",
     "output_type": "stream",
     "text": [
      "Invalid input! not a number.\n"
     ]
    }
   ],
   "source": [
    "# 8.2 Value Error\n",
    "try:\n",
    "    number = int(\"abc\")\n",
    "except:\n",
    "    print(\"Invalid input! not a number.\")\n",
    "    "
   ]
  },
  {
   "cell_type": "code",
   "execution_count": 4,
   "id": "0db8477c-f4a3-4641-9fd0-03a4bfce7113",
   "metadata": {},
   "outputs": [
    {
     "name": "stdout",
     "output_type": "stream",
     "text": [
      "you cannot add string and number!\n"
     ]
    }
   ],
   "source": [
    "# 8.3 TypeError\n",
    "try:\n",
    "    result = \"6\" + 4\n",
    "except:\n",
    "    print(\"you cannot add string and number!\")"
   ]
  },
  {
   "cell_type": "code",
   "execution_count": 5,
   "id": "0fc2d293-3363-4e41-8d6b-08a1cb71c43f",
   "metadata": {},
   "outputs": [
    {
     "name": "stdout",
     "output_type": "stream",
     "text": [
      "File not found\n"
     ]
    }
   ],
   "source": [
    "# 8.4 File not found error\n",
    "try:\n",
    "    with open(\"miising file.txt\", \"r\")as file:\n",
    "        data = file.read\n",
    "except:\n",
    "    print(\"File not found\")"
   ]
  },
  {
   "cell_type": "code",
   "execution_count": 6,
   "id": "60bb1b5d-e24d-4d03-8cac-3d938eb7b501",
   "metadata": {},
   "outputs": [
    {
     "name": "stdout",
     "output_type": "stream",
     "text": [
      "List index out of range!\n"
     ]
    }
   ],
   "source": [
    "# 8.5 Index error\n",
    "try:\n",
    "    my_list = [2,3,4,7]\n",
    "    print(my_list[5])\n",
    "except:\n",
    "    print(\"List index out of range!\")"
   ]
  },
  {
   "cell_type": "code",
   "execution_count": 7,
   "id": "75b9aa02-39f3-4b45-a574-f67669e58d2a",
   "metadata": {},
   "outputs": [
    {
     "name": "stdout",
     "output_type": "stream",
     "text": [
      "Key does not exist!\n"
     ]
    }
   ],
   "source": [
    "# 8.6 Key Error\n",
    "try:\n",
    "    my_dict = {'name': 'Zimba'}\n",
    "    print(my_dict[\"age\"])\n",
    "except:\n",
    "    print(\"Key does not exist!\")"
   ]
  },
  {
   "cell_type": "code",
   "execution_count": 8,
   "id": "71b85715-3952-41d9-87c4-81e77d8cc5fa",
   "metadata": {},
   "outputs": [
    {
     "name": "stdout",
     "output_type": "stream",
     "text": [
      "An error occurred!\n"
     ]
    }
   ],
   "source": [
    "# 8.7 Genereic Error Handling\n",
    "try:\n",
    "    something_wrong()\n",
    "except:\n",
    "    print(\"An error occurred!\")"
   ]
  },
  {
   "cell_type": "markdown",
   "id": "12c08ccd-72a5-49b8-b853-fb84fa3b0706",
   "metadata": {},
   "source": [
    "## 9. Built in Modules"
   ]
  },
  {
   "cell_type": "code",
   "execution_count": 3,
   "id": "9eda54b2-4f1d-4609-8159-07f6c29ff492",
   "metadata": {},
   "outputs": [
    {
     "name": "stdout",
     "output_type": "stream",
     "text": [
      "5.0\n",
      "3.141592653589793\n"
     ]
    }
   ],
   "source": [
    "# 9.1 math module\n",
    "import math\n",
    "print(math.sqrt(25))     \n",
    "print(math.pi)           "
   ]
  },
  {
   "cell_type": "code",
   "execution_count": 6,
   "id": "26cc8465-67b4-4fc6-bf86-53887d0cd68a",
   "metadata": {},
   "outputs": [
    {
     "name": "stdout",
     "output_type": "stream",
     "text": [
      "8\n",
      "banana\n"
     ]
    }
   ],
   "source": [
    "# 9.2 ranodom Module\n",
    "import random\n",
    "print(random.randint(1, 9))         # Random number between 1 and 10\n",
    "print(random.choice(['apple', 'banana', 'cherry']))  # random item"
   ]
  },
  {
   "cell_type": "code",
   "execution_count": 7,
   "id": "c885040a-3a8a-4ff3-a50e-f905fcb1abc0",
   "metadata": {},
   "outputs": [
    {
     "name": "stdout",
     "output_type": "stream",
     "text": [
      "Current time: 2025-08-01 21:59:06.362642\n"
     ]
    }
   ],
   "source": [
    "# 9.3 datetime module\n",
    "import datetime\n",
    "now = datetime.datetime.now()\n",
    "print(\"Current time:\", now)"
   ]
  },
  {
   "cell_type": "code",
   "execution_count": 8,
   "id": "8e2e0316-b836-4c29-83a4-7d0a9269e5b6",
   "metadata": {},
   "outputs": [
    {
     "name": "stdout",
     "output_type": "stream",
     "text": [
      "/home/monalisha/Desktop/coding/learn-python\n"
     ]
    }
   ],
   "source": [
    "# 9.4 os module\n",
    "import os\n",
    "print(os.getcwd())       # Current working directory\n",
    "os.mkdir(\"new_folder\")   # Make a new folder"
   ]
  },
  {
   "cell_type": "code",
   "execution_count": 9,
   "id": "d8f5a670-339a-4926-aacd-4194799cb1ba",
   "metadata": {},
   "outputs": [
    {
     "name": "stdout",
     "output_type": "stream",
     "text": [
      "{\"name\": \"Monalisha\", \"age\": 22}\n"
     ]
    }
   ],
   "source": [
    "# 9.5 json module\n",
    "import json\n",
    "data = {\"name\": \"Monalisha\", \"age\": 22}\n",
    "json_str = json.dumps(data)\n",
    "print(json_str)         "
   ]
  },
  {
   "cell_type": "code",
   "execution_count": 11,
   "id": "e921537f-1dd0-4050-8544-4c8a181d9be0",
   "metadata": {},
   "outputs": [],
   "source": [
    "# 9.6 External module (install by myself)\n",
    "# pip install requests\n",
    "# python\n",
    "# import requests\n",
    "\n",
    "#response = requests.get('https://example.com')\n",
    "#print(response.status_code)\n"
   ]
  },
  {
   "cell_type": "markdown",
   "id": "af6a29d3-fb12-4540-a099-f0b67b0c15b2",
   "metadata": {},
   "source": [
    "## 10. Tuples (Built in Data Type)"
   ]
  },
  {
   "cell_type": "code",
   "execution_count": 1,
   "id": "593044e1-063a-4320-b4ac-cc60e449a219",
   "metadata": {},
   "outputs": [],
   "source": [
    "# Using parentheses\n",
    "my_tuple = (1, 2, 3)\n",
    "\n",
    "# Without parentheses (not recommended, but valid)\n",
    "another_tuple = 4, 5, 6\n",
    "\n",
    "# Tuple with mixed data types\n",
    "mixed = (\"apple\", 3.14, True)\n",
    "\n",
    "# Single element tuple (note the comma!)\n",
    "single = (5,)  # This is a tuple\n",
    "not_a_tuple = (5)  # This is just an int"
   ]
  },
  {
   "cell_type": "code",
   "execution_count": 9,
   "id": "f49db670-1c5f-4096-b2e8-cdc4fe0c3a18",
   "metadata": {},
   "outputs": [
    {
     "name": "stdout",
     "output_type": "stream",
     "text": [
      "10\n",
      "40\n"
     ]
    }
   ],
   "source": [
    "t = (10, 20, 30, 40)\n",
    "\n",
    "print(t[0])  # 10\n",
    "print(t[-1]) # 40\n"
   ]
  },
  {
   "cell_type": "code",
   "execution_count": 11,
   "id": "ed075eb2-6c36-410b-941c-620d59622c6f",
   "metadata": {},
   "outputs": [
    {
     "name": "stdout",
     "output_type": "stream",
     "text": [
      "(1, 2, 3, 4)\n",
      "(3, 4, 3, 4)\n",
      "(3, 4)\n"
     ]
    }
   ],
   "source": [
    "t1 = (1, 2)\n",
    "t2 = (3, 4)\n",
    "\n",
    "# Concatenation\n",
    "print(t1 + t2)  # (1, 2, 3, 4)\n",
    "\n",
    "# Repetition\n",
    "print(t2 * 2)   # (1, 2, 1, 2)\n",
    "\n",
    "# Slicing\n",
    "print(t2[0:2])  # (3, 4)\n"
   ]
  },
  {
   "cell_type": "code",
   "execution_count": 16,
   "id": "434ba68c-7626-4151-b061-8c306284b8df",
   "metadata": {},
   "outputs": [
    {
     "name": "stdout",
     "output_type": "stream",
     "text": [
      "3\n",
      "4\n"
     ]
    }
   ],
   "source": [
    "t = (1, 2, 2, 2, 3)\n",
    "\n",
    "print(t.count(2))   # 2 (counts how many times 2 appears)\n",
    "print(t.index(3))   # 3 (returns index of first 3)\n"
   ]
  },
  {
   "cell_type": "markdown",
   "id": "47f0a1eb-9747-4295-8c30-180743788cd7",
   "metadata": {},
   "source": [
    "## 11. Operators\n"
   ]
  },
  {
   "cell_type": "code",
   "execution_count": 2,
   "id": "ff27666a-4b84-4bd3-b6f4-916aeb63201a",
   "metadata": {},
   "outputs": [
    {
     "name": "stdout",
     "output_type": "stream",
     "text": [
      "25\n"
     ]
    }
   ],
   "source": [
    "#  Arithmetic operators\n",
    "# 11.1 Exponentiation (**) → Power ( 5 to the power 2)\n",
    "A = 5\n",
    "B = 2\n",
    "result = A**B\n",
    "print(result)"
   ]
  },
  {
   "cell_type": "code",
   "execution_count": 3,
   "id": "af4488bb-b9af-4851-b1b8-8a5ca995b96b",
   "metadata": {},
   "outputs": [
    {
     "name": "stdout",
     "output_type": "stream",
     "text": [
      "2\n"
     ]
    }
   ],
   "source": [
    "# 11.2  Modulus (%) → Remainder after division\n",
    "A = 6\n",
    "B = 4\n",
    "result = A % B\n",
    "print(result)"
   ]
  },
  {
   "cell_type": "code",
   "execution_count": 4,
   "id": "8ddd1ca8-90fb-4159-ac5c-133b575c1274",
   "metadata": {},
   "outputs": [
    {
     "name": "stdout",
     "output_type": "stream",
     "text": [
      "2\n"
     ]
    }
   ],
   "source": [
    "# 11.3 Floor Division (//) → Removes decimal part\n",
    "A = 5\n",
    "B = 2\n",
    "result = A // B\n",
    "print(result)"
   ]
  },
  {
   "cell_type": "code",
   "execution_count": 5,
   "id": "70fbdead-aad1-45ae-a6d5-4c71dde12305",
   "metadata": {},
   "outputs": [
    {
     "name": "stdout",
     "output_type": "stream",
     "text": [
      "2.3333333333333335\n"
     ]
    }
   ],
   "source": [
    "# 11.4  Division (/) → Always returns a float\n",
    "X = 7\n",
    "Y = 3\n",
    "result = X / Y\n",
    "print(result)"
   ]
  },
  {
   "cell_type": "code",
   "execution_count": 6,
   "id": "ab52300b-cfd7-45f4-8c86-ebd02738e193",
   "metadata": {},
   "outputs": [
    {
     "name": "stdout",
     "output_type": "stream",
     "text": [
      "54\n"
     ]
    }
   ],
   "source": [
    "# 11.5  Multiplication (*)\n",
    "a = 6\n",
    "b = 9\n",
    "X = a * b\n",
    "print(X)"
   ]
  },
  {
   "cell_type": "code",
   "execution_count": 7,
   "id": "2903def4-e638-4455-a797-fe5357a68959",
   "metadata": {},
   "outputs": [
    {
     "name": "stdout",
     "output_type": "stream",
     "text": [
      "7\n"
     ]
    }
   ],
   "source": [
    "# 11.6 Subtraction (-)\n",
    "a = 41\n",
    "b = 34\n",
    "X = a - b\n",
    "print(X)"
   ]
  },
  {
   "cell_type": "code",
   "execution_count": 8,
   "id": "37793864-5e36-4ec8-b089-8ebbf9e83a4e",
   "metadata": {},
   "outputs": [
    {
     "name": "stdout",
     "output_type": "stream",
     "text": [
      "79\n"
     ]
    }
   ],
   "source": [
    "# 11.7 Addition (+)\n",
    "a = 45\n",
    "b = 34\n",
    "S = a + b\n",
    "print(a + b)"
   ]
  },
  {
   "cell_type": "code",
   "execution_count": 9,
   "id": "77982d07-07cb-4ff4-bf57-50e811c7c38e",
   "metadata": {},
   "outputs": [
    {
     "name": "stdout",
     "output_type": "stream",
     "text": [
      "False\n"
     ]
    }
   ],
   "source": [
    "# Comparison (Relational) Operators\n",
    "# 11.1  Equal to (==)\n",
    "x = 6\n",
    "y = 5\n",
    "print(x == y)   \n"
   ]
  },
  {
   "cell_type": "code",
   "execution_count": 10,
   "id": "fe41414f-b5d8-446d-9133-9a2d7c9c0d01",
   "metadata": {},
   "outputs": [
    {
     "name": "stdout",
     "output_type": "stream",
     "text": [
      "True\n"
     ]
    }
   ],
   "source": [
    "# 11.2 Not equal to (!=)\n",
    "x = 7\n",
    "y = 3\n",
    "print(x != y)   # True  (because 5 is not equal to 3)\n"
   ]
  },
  {
   "cell_type": "code",
   "execution_count": 11,
   "id": "1d1e438b-acf8-4adf-87cf-1db914d26ede",
   "metadata": {},
   "outputs": [
    {
     "name": "stdout",
     "output_type": "stream",
     "text": [
      "True\n"
     ]
    }
   ],
   "source": [
    "# 11.3 Greater than (>)\n",
    "x = 5\n",
    "y = 3\n",
    "print(x > y)    # True  (because 5 is greater than 3)\n"
   ]
  },
  {
   "cell_type": "code",
   "execution_count": 13,
   "id": "78f5e8c9-f5f1-425e-a0b2-11f6d47fe414",
   "metadata": {},
   "outputs": [
    {
     "name": "stdout",
     "output_type": "stream",
     "text": [
      "False\n"
     ]
    }
   ],
   "source": [
    "# 11.4 Less than (<)\n",
    "x = 8\n",
    "y = 3\n",
    "print(x < y)    # False (because 5 is not less than 3)\n"
   ]
  },
  {
   "cell_type": "code",
   "execution_count": 14,
   "id": "d18e9c00-432b-4caf-8b4b-84e6767394f7",
   "metadata": {},
   "outputs": [
    {
     "name": "stdout",
     "output_type": "stream",
     "text": [
      "True\n"
     ]
    }
   ],
   "source": [
    "# 11.5 Greater than or equal to (>=)\n",
    "x = 5\n",
    "y = 5\n",
    "print(x >= y)   # True  (because 5 is equal to 5)\n"
   ]
  },
  {
   "cell_type": "code",
   "execution_count": 15,
   "id": "fb03c34e-6e0f-4515-a799-23f3aaf6c9f0",
   "metadata": {},
   "outputs": [
    {
     "name": "stdout",
     "output_type": "stream",
     "text": [
      "True\n"
     ]
    }
   ],
   "source": [
    "# 11.6 Less than or equal to (<=)\n",
    "x = 3\n",
    "y = 5\n",
    "print(x <= y)   # True  (because 3 is less than 5)\n"
   ]
  },
  {
   "cell_type": "code",
   "execution_count": 2,
   "id": "8f2fafb1-a732-4f65-8646-7963c7f55b47",
   "metadata": {},
   "outputs": [
    {
     "name": "stdout",
     "output_type": "stream",
     "text": [
      "True\n",
      "False\n"
     ]
    }
   ],
   "source": [
    "# logical operators\n",
    "# 11.1 and → True if both conditions are True\n",
    "x = 5\n",
    "y = 3\n",
    "print(x > 2 and y < 5)   # True  (both conditions are True)\n",
    "print(x > 2 and y > 5)   # False (second condition is False)\n"
   ]
  },
  {
   "cell_type": "code",
   "execution_count": 3,
   "id": "17395e53-8662-4d2e-9a45-3fdae99db39a",
   "metadata": {},
   "outputs": [
    {
     "name": "stdout",
     "output_type": "stream",
     "text": [
      "True\n",
      "False\n"
     ]
    }
   ],
   "source": [
    "# 11.2 or → True if at least one condition is True\n",
    "x = 5\n",
    "y = 3\n",
    "print(x > 2 or y > 5)    # True  (first condition is True)\n",
    "print(x < 2 or y > 5)    # False (both conditions are False)\n"
   ]
  },
  {
   "cell_type": "code",
   "execution_count": 4,
   "id": "94b2ecdf-1fa5-45a2-8dac-5553bd607046",
   "metadata": {},
   "outputs": [
    {
     "name": "stdout",
     "output_type": "stream",
     "text": [
      "False\n",
      "True\n"
     ]
    }
   ],
   "source": [
    "# 11.3 not → Reverses the result (True → False, False → True)\n",
    "x = 5\n",
    "print(not(x > 2))        # False (because x > 2 is True, but 'not' reverses it)\n",
    "print(not(x < 2))        # True  (because x < 2 is False, reversed to True)"
   ]
  },
  {
   "cell_type": "code",
   "execution_count": 11,
   "id": "9c3a7a88-3eeb-4c9b-8865-43cff8b9535e",
   "metadata": {},
   "outputs": [],
   "source": [
    "# Bitwise Operators\n",
    "a = 5   # binary: 0101\n",
    "b = 3   # binary: 0011\n"
   ]
  },
  {
   "cell_type": "code",
   "execution_count": 9,
   "id": "42078d2a-2366-4934-8471-961ccaed387a",
   "metadata": {},
   "outputs": [
    {
     "name": "stdout",
     "output_type": "stream",
     "text": [
      "1\n"
     ]
    }
   ],
   "source": [
    "# 11.1 AND (&)\n",
    "a = 5\n",
    "b = 3\n",
    "print(a & b)   # 1  (binary: 0001)"
   ]
  },
  {
   "cell_type": "code",
   "execution_count": 10,
   "id": "0b979be0-d4fd-4595-ab7f-d8e6b72fb833",
   "metadata": {},
   "outputs": [
    {
     "name": "stdout",
     "output_type": "stream",
     "text": [
      "7\n"
     ]
    }
   ],
   "source": [
    "# 11.2 OR (|)\n",
    "print(a | b)   # 7  (binary: 0111)\n"
   ]
  },
  {
   "cell_type": "code",
   "execution_count": 12,
   "id": "095adff5-d838-4f3f-a6d3-589ac269f70c",
   "metadata": {},
   "outputs": [
    {
     "name": "stdout",
     "output_type": "stream",
     "text": [
      "6\n"
     ]
    }
   ],
   "source": [
    "# 11.3 XOR (^)\n",
    "print(a ^ b)   # 6  (binary: 0110)\n"
   ]
  },
  {
   "cell_type": "code",
   "execution_count": 13,
   "id": "5a1218c0-dbb9-485a-bf40-407f83685694",
   "metadata": {},
   "outputs": [
    {
     "name": "stdout",
     "output_type": "stream",
     "text": [
      "-6\n"
     ]
    }
   ],
   "source": [
    "# 11.4 NOT (~)\n",
    "print(~a)      # -6\n"
   ]
  },
  {
   "cell_type": "code",
   "execution_count": 14,
   "id": "cd001b3a-2ab8-4f95-8b06-b2d6e22ef1cb",
   "metadata": {},
   "outputs": [
    {
     "name": "stdout",
     "output_type": "stream",
     "text": [
      "10\n",
      "20\n"
     ]
    }
   ],
   "source": [
    "# 11.5 Left Shift (<<)\n",
    "print(a << 1)  # 10 (binary: 1010)\n",
    "print(a << 2)  # 20 (binary: 10100)\n"
   ]
  },
  {
   "cell_type": "code",
   "execution_count": 15,
   "id": "0dc54358-5bc3-4459-bcaa-d0c236d730f8",
   "metadata": {},
   "outputs": [
    {
     "name": "stdout",
     "output_type": "stream",
     "text": [
      "2\n",
      "1\n"
     ]
    }
   ],
   "source": [
    "# 11.6 Right Shift (>>)\n",
    "print(a >> 1)  # 2  (binary: 0010)\n",
    "print(a >> 2)  # 1  (binary: 0001)\n"
   ]
  },
  {
   "cell_type": "code",
   "execution_count": 16,
   "id": "50f506f3-8562-4408-8d31-43716a524094",
   "metadata": {},
   "outputs": [
    {
     "name": "stdout",
     "output_type": "stream",
     "text": [
      "True\n",
      "False\n",
      "True\n",
      "False\n"
     ]
    }
   ],
   "source": [
    "# Membership operators\n",
    "# 11.1 in → Returns True if the value is found in the sequence\n",
    "# Example with a list\n",
    "fruits = [\"apple\", \"banana\", \"cherry\"]\n",
    "print(\"apple\" in fruits)   # True\n",
    "print(\"grape\" in fruits)   # False\n",
    "\n",
    "# Example with a string\n",
    "text = \"Hello Python\"\n",
    "print(\"Python\" in text)    # True\n",
    "print(\"Java\" in text)      # False\n"
   ]
  },
  {
   "cell_type": "code",
   "execution_count": 17,
   "id": "7306143c-6469-4305-a588-24e890dd6a14",
   "metadata": {},
   "outputs": [
    {
     "name": "stdout",
     "output_type": "stream",
     "text": [
      "True\n",
      "False\n",
      "True\n",
      "False\n"
     ]
    }
   ],
   "source": [
    "# 11.2 not in → Returns True if the value is not found in the sequence\n",
    "fruits = [\"apple\", \"banana\", \"cherry\"]\n",
    "print(\"mango\" not in fruits)   # True\n",
    "print(\"banana\" not in fruits)  # False\n",
    "\n",
    "text = \"Hello Python\"\n",
    "print(\"C++\" not in text)       # True\n",
    "print(\"Python\" not in text)    # False"
   ]
  },
  {
   "cell_type": "code",
   "execution_count": 18,
   "id": "8b6c6db5-d301-47f6-b76e-d72564d5b29a",
   "metadata": {},
   "outputs": [
    {
     "name": "stdout",
     "output_type": "stream",
     "text": [
      "True\n",
      "False\n"
     ]
    }
   ],
   "source": [
    "# Identity Operators\n",
    "# 11.1 is → True if both variables point to the same object\n",
    "x = [1, 2, 3]\n",
    "y = x        # y refers to the same list as x\n",
    "z = [1, 2, 3]\n",
    "\n",
    "print(x is y)   # True  (same memory location)\n",
    "print(x is z)   # False (different objects, even though values are equal)\n"
   ]
  },
  {
   "cell_type": "code",
   "execution_count": 19,
   "id": "cbe27baa-2cef-44fc-b1e0-cce3a41b7023",
   "metadata": {},
   "outputs": [
    {
     "name": "stdout",
     "output_type": "stream",
     "text": [
      "True\n",
      "False\n"
     ]
    }
   ],
   "source": [
    "# 11.2 is not → True if both variables point to different objects\n",
    "x = [1, 2, 3]\n",
    "y = [1, 2, 3]\n",
    "\n",
    "print(x is not y)   # True  (different objects)\n",
    "print(x is not x)   # False (same object)\n"
   ]
  },
  {
   "cell_type": "code",
   "execution_count": 20,
   "id": "b2b998df-0c7c-4120-93a4-c655a88ae163",
   "metadata": {},
   "outputs": [
    {
     "name": "stdout",
     "output_type": "stream",
     "text": [
      "True\n",
      "False\n"
     ]
    }
   ],
   "source": [
    "##     \n",
    "x = [1, 2, 3]\n",
    "y = [1, 2, 3]\n",
    "\n",
    "print(x == y)  # True  (same values)\n",
    "print(x is y)  # False (different objects)\n"
   ]
  },
  {
   "cell_type": "code",
   "execution_count": null,
   "id": "9b7a19e7-00f4-4737-8fa1-121a2064a954",
   "metadata": {},
   "outputs": [],
   "source": []
  }
 ],
 "metadata": {
  "kernelspec": {
   "display_name": "Python 3 (ipykernel)",
   "language": "python",
   "name": "python3"
  },
  "language_info": {
   "codemirror_mode": {
    "name": "ipython",
    "version": 3
   },
   "file_extension": ".py",
   "mimetype": "text/x-python",
   "name": "python",
   "nbconvert_exporter": "python",
   "pygments_lexer": "ipython3",
   "version": "3.10.18"
  }
 },
 "nbformat": 4,
 "nbformat_minor": 5
}
