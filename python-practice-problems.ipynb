{
 "cells": [
  {
   "cell_type": "markdown",
   "id": "e9aa1186-8bfd-4ea9-bb3c-5da23dbbcf28",
   "metadata": {},
   "source": [
    "## 1. Data types and Variables\n"
   ]
  },
  {
   "cell_type": "code",
   "execution_count": 1,
   "id": "301889e0-8105-4280-8878-3a7add29e03b",
   "metadata": {},
   "outputs": [
    {
     "name": "stdout",
     "output_type": "stream",
     "text": [
      "Hi my name is Monalisha Borgohain.\n"
     ]
    }
   ],
   "source": [
    "#1.1 write your name.\n",
    "name = (\"Monalisha\")\n",
    "print(\"Hi my name is\", name, \"Borgohain.\")"
   ]
  },
  {
   "cell_type": "code",
   "execution_count": 7,
   "id": "febb0fb1-c485-47dd-9d4e-b630a164969b",
   "metadata": {},
   "outputs": [
    {
     "name": "stdout",
     "output_type": "stream",
     "text": [
      "I am 26 years old.\n"
     ]
    }
   ],
   "source": [
    "# 1.2 Write your age.\n",
    "age = \"26\"\n",
    "print(\"I am\", age, \"years old.\")\n"
   ]
  },
  {
   "cell_type": "code",
   "execution_count": 6,
   "id": "5d6c0d4d-c593-4f58-aa50-4dea2f92ae71",
   "metadata": {},
   "outputs": [
    {
     "name": "stdout",
     "output_type": "stream",
     "text": [
      " I am 51.534 meters.\n"
     ]
    }
   ],
   "source": [
    "# 1.3 Write your height.\n",
    "height = 51.534 \n",
    "print(\" I am\", height,\"meters.\")"
   ]
  },
  {
   "cell_type": "code",
   "execution_count": 11,
   "id": "a35001f9-9761-4ece-afe1-9892f8d67ccd",
   "metadata": {},
   "outputs": [
    {
     "name": "stdout",
     "output_type": "stream",
     "text": [
      "You are not a student.\n"
     ]
    }
   ],
   "source": [
    "# 1.4 Check you are a student or not\n",
    "student = False # True\n",
    "if student:\n",
    "    print(\"You are a student.\")\n",
    "else:\n",
    "    print(\"You are not a student.\")\n",
    "    "
   ]
  },
  {
   "cell_type": "code",
   "execution_count": 16,
   "id": "c9e41b4f-c86c-45b6-867b-f675c53386d4",
   "metadata": {},
   "outputs": [
    {
     "name": "stdin",
     "output_type": "stream",
     "text": [
      "Are you a student? : (yes/no) yes\n"
     ]
    },
    {
     "name": "stdout",
     "output_type": "stream",
     "text": [
      "You are a student.\n"
     ]
    }
   ],
   "source": [
    "# 1.4.1 Check you are a student or not(using user input)\n",
    "answer = input(\"Are you a student? : (yes/no)\")\n",
    "student = answer.lower()== \"yes\"\n",
    "if student:\n",
    "    print( \"You are a student.\")\n",
    "else:\n",
    "    print(\"You are not a student.\")\n",
    "\n",
    "    "
   ]
  },
  {
   "cell_type": "markdown",
   "id": "ec70c4e0-2b60-4d2a-b5f2-ed779462d41e",
   "metadata": {},
   "source": [
    "## 2. Conditional Statements"
   ]
  },
  {
   "cell_type": "code",
   "execution_count": 19,
   "id": "2b3db071-d655-473b-ae18-c36c3b55e9ba",
   "metadata": {},
   "outputs": [
    {
     "name": "stdin",
     "output_type": "stream",
     "text": [
      " Enter your number: 9\n"
     ]
    },
    {
     "name": "stdout",
     "output_type": "stream",
     "text": [
      "The number is not even.\n"
     ]
    }
   ],
   "source": [
    "# 2.1 Check even numbres (using user-input)\n",
    "# using user input\n",
    "number = int(input(\" Enter your number:\"))\n",
    "if number % 2 == 0:\n",
    "    print(\"The number is even.\")\n",
    "else:\n",
    "    print(\"The number is not even.\")\n",
    "             \n"
   ]
  },
  {
   "cell_type": "code",
   "execution_count": 22,
   "id": "2ecdb0c1-bb6b-490c-8fd9-21f8c5e08a6c",
   "metadata": {},
   "outputs": [
    {
     "name": "stdin",
     "output_type": "stream",
     "text": [
      "Enter your number; 12\n"
     ]
    },
    {
     "name": "stdout",
     "output_type": "stream",
     "text": [
      "The number is not odd.\n"
     ]
    }
   ],
   "source": [
    "# 2.2 Check odd numbers (using user-input)\n",
    "# using user input\n",
    "number = int(input(\"Enter your number;\"))\n",
    "if number % 2!= 0:\n",
    "    print( \"The number is odd.\")\n",
    "else:\n",
    "    print(\"The number is not odd.\")\n",
    "    \n"
   ]
  },
  {
   "cell_type": "code",
   "execution_count": 26,
   "id": "16c5a57e-9d38-4870-9a68-b1c336c1b371",
   "metadata": {},
   "outputs": [
    {
     "name": "stdin",
     "output_type": "stream",
     "text": [
      " Enter your number: 9.77\n"
     ]
    },
    {
     "name": "stdout",
     "output_type": "stream",
     "text": [
      "The number is rational.\n"
     ]
    }
   ],
   "source": [
    "# 2.3 Check rational numbers (using user-input)\n",
    "number = float(input(\" Enter your number:\"))\n",
    "\n",
    "# isinstance() is a built-in function used to check the type of a variable or value.\n",
    "if isinstance(number, (int, float)):\n",
    "    print(\"The number is rational.\")\n",
    "else:\n",
    "    print(\"The number is not rational.\")\n",
    "          \n"
   ]
  },
  {
   "cell_type": "code",
   "execution_count": 9,
   "id": "0af50230-f67f-44c5-8a62-9513b5516b0a",
   "metadata": {},
   "outputs": [
    {
     "name": "stdin",
     "output_type": "stream",
     "text": [
      " Enter your age: 18\n"
     ]
    },
    {
     "name": "stdout",
     "output_type": "stream",
     "text": [
      "You are eligible to vote.\n"
     ]
    }
   ],
   "source": [
    "# 2.4 Check age  (using user-input)\n",
    "number = int(input(\" Enter your age:\"))\n",
    "if number >= 18:\n",
    "    print(\"You are eligible to vote.\")\n",
    "else:\n",
    "    print(\"You are not eligible to vote.\")\n",
    "\n",
    "    \n",
    "             \n"
   ]
  },
  {
   "cell_type": "code",
   "execution_count": 30,
   "id": "76d8078b-0948-468c-bc38-1548015a792f",
   "metadata": {},
   "outputs": [
    {
     "name": "stdin",
     "output_type": "stream",
     "text": [
      "Enter the year: 2004\n"
     ]
    },
    {
     "name": "stdout",
     "output_type": "stream",
     "text": [
      " This is a leap year.\n"
     ]
    }
   ],
   "source": [
    "# 2.5 Check Leap year  (using user-input)\n",
    "year = int(input(\"Enter the year:\"))\n",
    "if year % 4== 0:\n",
    "    print(\" This is a leap year.\")\n",
    "else:\n",
    "    print(\"This is not a leap year\")\n"
   ]
  },
  {
   "cell_type": "code",
   "execution_count": 36,
   "id": "d2f20150-d8ec-40f0-8a3a-8eeac57cde99",
   "metadata": {},
   "outputs": [
    {
     "name": "stdin",
     "output_type": "stream",
     "text": [
      "Enter your marks: 45\n"
     ]
    },
    {
     "name": "stdout",
     "output_type": "stream",
     "text": [
      " You have achieved grade B.\n"
     ]
    }
   ],
   "source": [
    "# 2.6 Check grade\n",
    "marks = float(input(\"Enter your marks:\"))\n",
    "if marks >= 80:\n",
    "    print(\"You have achieved grade A+.\")\n",
    "elif 80 > marks >= 60:\n",
    "    print(\"You have achieved grade A.\")\n",
    "elif 60 > marks >= 40:\n",
    "    print(\" You have achieved grade B.\")\n",
    "else:\n",
    "    print(\"You have achieved grade C\")\n",
    "\n",
    "\n",
    "\n",
    "    \n",
    "    "
   ]
  },
  {
   "cell_type": "code",
   "execution_count": 48,
   "id": "d318ea61-35f6-403a-95d3-4a47f335ccd7",
   "metadata": {},
   "outputs": [
    {
     "name": "stdin",
     "output_type": "stream",
     "text": [
      "Enter your number: 18\n"
     ]
    },
    {
     "name": "stdout",
     "output_type": "stream",
     "text": [
      "The number is only divisible by 3.\n"
     ]
    }
   ],
   "source": [
    "# 2.7 Check divisibility\n",
    "\n",
    "#\"Divisible by 3 and 5\"\n",
    "number = int(input(\"Enter your number:\"))\n",
    "if number % 3== 0 and number % 5 == 0:\n",
    "    print(\"The number is divisible by 3 and 5.\")\n",
    "elif number % 3 == 0:\n",
    "    print(\"The number is only divisible by 3.\")\n",
    "elif number % 5 == 0:\n",
    "    print(\"The number is only divisible by 5.\")\n",
    "else:\n",
    "    print(\"Not divisible by 3 and 5.\")\n",
    "    \n",
    "\n",
    "    \n"
   ]
  },
  {
   "cell_type": "code",
   "execution_count": 50,
   "id": "16814e40-3f79-4c85-9118-1a655784d3bf",
   "metadata": {},
   "outputs": [
    {
     "name": "stdin",
     "output_type": "stream",
     "text": [
      "Enter your number: 19\n"
     ]
    },
    {
     "name": "stdout",
     "output_type": "stream",
     "text": [
      "The number is not divisible by 3.\n"
     ]
    }
   ],
   "source": [
    "#\"Only divisible by 3\"\n",
    "\n",
    "number = int(input(\"Enter your number:\"))\n",
    "if number % 3 == 0:\n",
    "    print(\"The number is divisible by 3.\")\n",
    "else:\n",
    "    print(\"The number is not divisible by 3.\")"
   ]
  },
  {
   "cell_type": "code",
   "execution_count": 52,
   "id": "6310c48e-dc02-4955-9b72-49690a96451d",
   "metadata": {},
   "outputs": [
    {
     "name": "stdin",
     "output_type": "stream",
     "text": [
      "Enter your number: 100\n"
     ]
    },
    {
     "name": "stdout",
     "output_type": "stream",
     "text": [
      "The number is divisible by 5\n"
     ]
    }
   ],
   "source": [
    "#\"Only divisible by 5\"\n",
    "number = int(input(\"Enter your number:\"))\n",
    "if number % 5 == 0:\n",
    "    print(\"The number is divisible by 5\")\n",
    "else:\n",
    "    print('The number is not divisible by 5.')\n",
    "    \n"
   ]
  },
  {
   "cell_type": "code",
   "execution_count": 53,
   "id": "42e9757a-3f16-46c7-a745-452b8a864f4f",
   "metadata": {},
   "outputs": [
    {
     "name": "stdin",
     "output_type": "stream",
     "text": [
      "Enter your number 15\n"
     ]
    },
    {
     "name": "stdout",
     "output_type": "stream",
     "text": [
      "The number is divisible by 3 and 5.\n"
     ]
    }
   ],
   "source": [
    "#\"Not divisible by 3 or 5\"\n",
    "number = int(input(\"Enter your number\"))\n",
    "if number % 3!= 0 and number % 5 != 0:\n",
    "    print(\"The number is not divisible by 3 and 5.\")\n",
    "else:\n",
    "    print(\"The number is divisible by 3 and 5.\")\n",
    "             "
   ]
  },
  {
   "cell_type": "code",
   "execution_count": 60,
   "id": "075c606b-4550-42b9-8442-bfcf282b1677",
   "metadata": {},
   "outputs": [
    {
     "name": "stdin",
     "output_type": "stream",
     "text": [
      "Enter first number: 13\n",
      "Enter second number: 8\n"
     ]
    },
    {
     "name": "stdout",
     "output_type": "stream",
     "text": [
      "The maximum number is: 13\n"
     ]
    }
   ],
   "source": [
    "# find maximum between two numbers (using user-input)\n",
    "a = int(input(\"Enter first number:\"))\n",
    "b = int(input(\"Enter second number:\"))\n",
    "\n",
    "if a > b:\n",
    "    print(\"The maximum number is:\", a)\n",
    "else:\n",
    "    print(\"The maximum number is:\", b)\n",
    "\n",
    "\n",
    "             "
   ]
  },
  {
   "cell_type": "markdown",
   "id": "0f28cf3e-71a9-48ab-9b22-96aa2e442988",
   "metadata": {},
   "source": [
    "## 3. List Practice"
   ]
  },
  {
   "cell_type": "code",
   "execution_count": 54,
   "id": "6315c066-40a0-4e01-9801-f04bea533cc0",
   "metadata": {},
   "outputs": [
    {
     "name": "stdout",
     "output_type": "stream",
     "text": [
      "The maximum number is: 17\n"
     ]
    }
   ],
   "source": [
    "# 3.1 Find the maximum number\n",
    "number = [3,8,6,17,3,1]\n",
    "A = max(number)\n",
    "print(\"The maximum number is:\", A)"
   ]
  },
  {
   "cell_type": "code",
   "execution_count": 62,
   "id": "c5169352-633c-4806-b01a-76f9619e0492",
   "metadata": {},
   "outputs": [
    {
     "name": "stdout",
     "output_type": "stream",
     "text": [
      "The minimum number is: 13\n"
     ]
    }
   ],
   "source": [
    "# 3.2 Find the minimum number\n",
    "numbers =[7,9,45,2,8]\n",
    "A = min(numbers)\n",
    "print(\"The minimum number is:\", a)"
   ]
  },
  {
   "cell_type": "code",
   "execution_count": 64,
   "id": "ac8c4725-ce32-4e95-885d-d6d101e510d0",
   "metadata": {},
   "outputs": [
    {
     "name": "stdout",
     "output_type": "stream",
     "text": [
      "The last number is: 11\n"
     ]
    }
   ],
   "source": [
    "# 3.3 Finf the last element\n",
    "numbers = [5,1,4,2,7,12,11]\n",
    "\n",
    "# to find last element from a list use : variable[-1]\n",
    "A = numbers[-1]\n",
    "print(\"The last number is:\", A)"
   ]
  },
  {
   "cell_type": "code",
   "execution_count": 5,
   "id": "ff5f3e0f-6c4a-48f4-9484-c6bc52a6b5ab",
   "metadata": {},
   "outputs": [
    {
     "name": "stdout",
     "output_type": "stream",
     "text": [
      "[3, 5, 7, 8, 11, 15]\n"
     ]
    }
   ],
   "source": [
    "# 3.4 ascending order\n",
    "#numbers =[7,8,3,11,15,5]\n",
    "# A = sorted(numbers)\n",
    "# print(A)\n",
    "\n",
    "numbers =[7,8,3,11,15,5]\n",
    "numbers.sort()\n",
    "print(numbers)\n"
   ]
  },
  {
   "cell_type": "code",
   "execution_count": 7,
   "id": "e159a666-68b2-48a6-868f-60e40c6eac4b",
   "metadata": {},
   "outputs": [
    {
     "name": "stdout",
     "output_type": "stream",
     "text": [
      "[13, 11, 7, 6, 4, 2]\n"
     ]
    }
   ],
   "source": [
    "# 3.5 descending order\n",
    "\n",
    "#numbers =[4,2,6,11,13,7]\n",
    "#numbers.sort(reverse = True)\n",
    "#print(numbers)\n",
    "\n",
    "numbers = [4,2,6,11,13,7]\n",
    "A = sorted(numbers, reverse = True)\n",
    "print(A)\n"
   ]
  },
  {
   "cell_type": "code",
   "execution_count": 8,
   "id": "c0b7d668-8004-46ee-908d-dd10746b1246",
   "metadata": {},
   "outputs": [
    {
     "name": "stdout",
     "output_type": "stream",
     "text": [
      "[3, 1, 5, 8, 11, 5, 12]\n"
     ]
    }
   ],
   "source": [
    "# 3.6 add number 12 in a list\n",
    "\n",
    "numbers =[3,1,5,8,11,5]\n",
    "numbers.append(12)\n",
    "print(numbers)\n"
   ]
  },
  {
   "cell_type": "code",
   "execution_count": null,
   "id": "7e31a9d0-d271-4110-8eb0-c06ba2d68378",
   "metadata": {},
   "outputs": [],
   "source": []
  }
 ],
 "metadata": {
  "kernelspec": {
   "display_name": "Python 3 (ipykernel)",
   "language": "python",
   "name": "python3"
  },
  "language_info": {
   "codemirror_mode": {
    "name": "ipython",
    "version": 3
   },
   "file_extension": ".py",
   "mimetype": "text/x-python",
   "name": "python",
   "nbconvert_exporter": "python",
   "pygments_lexer": "ipython3",
   "version": "3.10.18"
  }
 },
 "nbformat": 4,
 "nbformat_minor": 5
}
